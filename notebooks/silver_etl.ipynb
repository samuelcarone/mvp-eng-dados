{
 "cells": [
  {
   "cell_type": "code",
   "execution_count": null,
   "id": "9c330cc1",
   "metadata": {},
   "outputs": [],
   "source": [
    "# Databricks notebook source\n",
    "df_ipca = spark.read.parquet(\"/mnt/bronze/ipca\")\n",
    "df_selic = spark.read.parquet(\"/mnt/bronze/selic\")\n",
    "df_ibov = spark.read.parquet(\"/mnt/bronze/ibov\")\n",
    "\n",
    "df_silver = df_ipca.join(df_selic, on=\"data\", how=\"inner\").join(df_ibov, on=\"data\", how=\"inner\")\n",
    "\n",
    "df_silver.write.mode(\"overwrite\").format(\"parquet\").save(\"/mnt/silver/economia_brasileira\")\n"
   ]
  }
 ],
 "metadata": {},
 "nbformat": 4,
 "nbformat_minor": 5
}
