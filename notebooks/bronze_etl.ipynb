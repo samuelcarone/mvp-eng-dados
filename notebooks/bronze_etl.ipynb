{
 "cells": [
  {
   "cell_type": "code",
   "execution_count": null,
   "id": "024ee3a4",
   "metadata": {},
   "outputs": [],
   "source": [
    "# Databricks notebook source\n",
    "from pyspark.sql.functions import to_date\n",
    "\n",
    "df_ipca = spark.read.option(\"header\", True).option(\"inferSchema\", True).csv(\"/FileStore/tables/IPCA.csv\")\n",
    "df_selic = spark.read.option(\"header\", True).option(\"inferSchema\", True).csv(\"/FileStore/tables/selic.csv\")\n",
    "df_ibov = spark.read.option(\"header\", True).option(\"inferSchema\", True).csv(\"/FileStore/tables/ibov.csv\")\n",
    "\n",
    "df_ipca = df_ipca.withColumn(\"data\", to_date(\"data\"))\n",
    "df_selic = df_selic.withColumn(\"data\", to_date(\"data\"))\n",
    "df_ibov = df_ibov.withColumn(\"data\", to_date(\"data\"))\n",
    "\n",
    "df_ipca.write.mode(\"overwrite\").format(\"parquet\").save(\"/mnt/bronze/ipca\")\n",
    "df_selic.write.mode(\"overwrite\").format(\"parquet\").save(\"/mnt/bronze/selic\")\n",
    "df_ibov.write.mode(\"overwrite\").format(\"parquet\").save(\"/mnt/bronze/ibov\")\n"
   ]
  }
 ],
 "metadata": {},
 "nbformat": 4,
 "nbformat_minor": 5
}
