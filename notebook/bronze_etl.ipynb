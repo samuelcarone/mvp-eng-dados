{
 "cells": [
  {
   "cell_type": "code",
   "execution_count": 0,
   "metadata": {
    "application/vnd.databricks.v1+cell": {
     "cellMetadata": {
      "byteLimit": 2048000,
      "rowLimit": 10000
     },
     "inputWidgets": {},
     "nuid": "07aa1f07-4d12-4a55-a88c-f10628a64e00",
     "showTitle": false,
     "tableResultSettingsMap": {},
     "title": ""
    }
   },
   "outputs": [],
   "source": [
    "from pyspark.sql.functions import to_date\n",
    "\n",
    "df_ipca = spark.read.option(\"header\", True).option(\"inferSchema\", True).csv(\"/FileStore/tables/IPCA.csv\")\n",
    "df_selic = spark.read.option(\"header\", True).option(\"inferSchema\", True).csv(\"/FileStore/tables/selic.csv\")\n",
    "df_ibov = spark.read.option(\"header\", True).option(\"inferSchema\", True).csv(\"/FileStore/tables/ibov.csv\")\n",
    "\n",
    "df_ipca = df_ipca.withColumn(\"data\", to_date(\"data\"))\n",
    "df_selic = df_selic.withColumn(\"data\", to_date(\"data\"))\n",
    "df_ibov = df_ibov.withColumn(\"data\", to_date(\"data\"))\n",
    "\n",
    "df_ipca.write.mode(\"overwrite\").format(\"parquet\").save(\"/mnt/bronze/ipca\")\n",
    "df_selic.write.mode(\"overwrite\").format(\"parquet\").save(\"/mnt/bronze/selic\")\n",
    "df_ibov.write.mode(\"overwrite\").format(\"parquet\").save(\"/mnt/bronze/ibov\")\n"
   ]
  },
  {
   "cell_type": "code",
   "execution_count": 0,
   "metadata": {
    "application/vnd.databricks.v1+cell": {
     "cellMetadata": {
      "byteLimit": 2048000,
      "rowLimit": 10000
     },
     "inputWidgets": {},
     "nuid": "0db95241-acc6-4b11-8acd-c3a7a38497a6",
     "showTitle": false,
     "tableResultSettingsMap": {},
     "title": ""
    }
   },
   "outputs": [
    {
     "output_type": "display_data",
     "data": {
      "text/html": [
       "<style scoped>\n",
       "  .table-result-container {\n",
       "    max-height: 300px;\n",
       "    overflow: auto;\n",
       "  }\n",
       "  table, th, td {\n",
       "    border: 1px solid black;\n",
       "    border-collapse: collapse;\n",
       "  }\n",
       "  th, td {\n",
       "    padding: 5px;\n",
       "  }\n",
       "  th {\n",
       "    text-align: left;\n",
       "  }\n",
       "</style><div class='table-result-container'><table class='table-result'><thead style='background-color: white'><tr><th>path</th><th>name</th><th>size</th><th>modificationTime</th></tr></thead><tbody><tr><td>dbfs:/FileStore/tables/IPCA.csv</td><td>IPCA.csv</td><td>3061</td><td>1743529759000</td></tr><tr><td>dbfs:/FileStore/tables/gold_ipca_selic_ibov-1.csv</td><td>gold_ipca_selic_ibov-1.csv</td><td>7131</td><td>1743523237000</td></tr><tr><td>dbfs:/FileStore/tables/gold_ipca_selic_ibov-2.csv</td><td>gold_ipca_selic_ibov-2.csv</td><td>7131</td><td>1743525005000</td></tr><tr><td>dbfs:/FileStore/tables/gold_ipca_selic_ibov.csv</td><td>gold_ipca_selic_ibov.csv</td><td>7131</td><td>1743521604000</td></tr><tr><td>dbfs:/FileStore/tables/ibov.csv</td><td>ibov.csv</td><td>3277</td><td>1743529759000</td></tr><tr><td>dbfs:/FileStore/tables/ibov_mvp_15_anos-1.csv</td><td>ibov_mvp_15_anos-1.csv</td><td>5323</td><td>1743527003000</td></tr><tr><td>dbfs:/FileStore/tables/ibov_mvp_15_anos.csv</td><td>ibov_mvp_15_anos.csv</td><td>5323</td><td>1743471311000</td></tr><tr><td>dbfs:/FileStore/tables/ipca_mvp_15_anos-1.csv</td><td>ipca_mvp_15_anos-1.csv</td><td>2881</td><td>1743527003000</td></tr><tr><td>dbfs:/FileStore/tables/ipca_mvp_15_anos.csv</td><td>ipca_mvp_15_anos.csv</td><td>2881</td><td>1743470519000</td></tr><tr><td>dbfs:/FileStore/tables/selic.csv</td><td>selic.csv</td><td>3167</td><td>1743529759000</td></tr><tr><td>dbfs:/FileStore/tables/selic_mvp_15_anos-1.csv</td><td>selic_mvp_15_anos-1.csv</td><td>2932</td><td>1743527003000</td></tr><tr><td>dbfs:/FileStore/tables/selic_mvp_15_anos.csv</td><td>selic_mvp_15_anos.csv</td><td>2932</td><td>1743468298000</td></tr><tr><td>dbfs:/FileStore/tables/selic_mvp_simulado-1.csv</td><td>selic_mvp_simulado-1.csv</td><td>1352</td><td>1743460573000</td></tr><tr><td>dbfs:/FileStore/tables/selic_mvp_simulado-2.csv</td><td>selic_mvp_simulado-2.csv</td><td>1352</td><td>1743461357000</td></tr><tr><td>dbfs:/FileStore/tables/selic_mvp_simulado-3.csv</td><td>selic_mvp_simulado-3.csv</td><td>1352</td><td>1743461402000</td></tr><tr><td>dbfs:/FileStore/tables/selic_mvp_simulado-4.csv</td><td>selic_mvp_simulado-4.csv</td><td>1352</td><td>1743462095000</td></tr><tr><td>dbfs:/FileStore/tables/selic_mvp_simulado-5.csv</td><td>selic_mvp_simulado-5.csv</td><td>1352</td><td>1743464329000</td></tr><tr><td>dbfs:/FileStore/tables/selic_mvp_simulado.csv</td><td>selic_mvp_simulado.csv</td><td>1352</td><td>1743459983000</td></tr></tbody></table></div>"
      ]
     },
     "metadata": {
      "application/vnd.databricks.v1+output": {
       "addedWidgets": {},
       "aggData": [],
       "aggError": "",
       "aggOverflow": false,
       "aggSchema": [],
       "aggSeriesLimitReached": false,
       "aggType": "",
       "arguments": {},
       "columnCustomDisplayInfos": {},
       "data": [
        [
         "dbfs:/FileStore/tables/IPCA.csv",
         "IPCA.csv",
         3061,
         1743529759000
        ],
        [
         "dbfs:/FileStore/tables/gold_ipca_selic_ibov-1.csv",
         "gold_ipca_selic_ibov-1.csv",
         7131,
         1743523237000
        ],
        [
         "dbfs:/FileStore/tables/gold_ipca_selic_ibov-2.csv",
         "gold_ipca_selic_ibov-2.csv",
         7131,
         1743525005000
        ],
        [
         "dbfs:/FileStore/tables/gold_ipca_selic_ibov.csv",
         "gold_ipca_selic_ibov.csv",
         7131,
         1743521604000
        ],
        [
         "dbfs:/FileStore/tables/ibov.csv",
         "ibov.csv",
         3277,
         1743529759000
        ],
        [
         "dbfs:/FileStore/tables/ibov_mvp_15_anos-1.csv",
         "ibov_mvp_15_anos-1.csv",
         5323,
         1743527003000
        ],
        [
         "dbfs:/FileStore/tables/ibov_mvp_15_anos.csv",
         "ibov_mvp_15_anos.csv",
         5323,
         1743471311000
        ],
        [
         "dbfs:/FileStore/tables/ipca_mvp_15_anos-1.csv",
         "ipca_mvp_15_anos-1.csv",
         2881,
         1743527003000
        ],
        [
         "dbfs:/FileStore/tables/ipca_mvp_15_anos.csv",
         "ipca_mvp_15_anos.csv",
         2881,
         1743470519000
        ],
        [
         "dbfs:/FileStore/tables/selic.csv",
         "selic.csv",
         3167,
         1743529759000
        ],
        [
         "dbfs:/FileStore/tables/selic_mvp_15_anos-1.csv",
         "selic_mvp_15_anos-1.csv",
         2932,
         1743527003000
        ],
        [
         "dbfs:/FileStore/tables/selic_mvp_15_anos.csv",
         "selic_mvp_15_anos.csv",
         2932,
         1743468298000
        ],
        [
         "dbfs:/FileStore/tables/selic_mvp_simulado-1.csv",
         "selic_mvp_simulado-1.csv",
         1352,
         1743460573000
        ],
        [
         "dbfs:/FileStore/tables/selic_mvp_simulado-2.csv",
         "selic_mvp_simulado-2.csv",
         1352,
         1743461357000
        ],
        [
         "dbfs:/FileStore/tables/selic_mvp_simulado-3.csv",
         "selic_mvp_simulado-3.csv",
         1352,
         1743461402000
        ],
        [
         "dbfs:/FileStore/tables/selic_mvp_simulado-4.csv",
         "selic_mvp_simulado-4.csv",
         1352,
         1743462095000
        ],
        [
         "dbfs:/FileStore/tables/selic_mvp_simulado-5.csv",
         "selic_mvp_simulado-5.csv",
         1352,
         1743464329000
        ],
        [
         "dbfs:/FileStore/tables/selic_mvp_simulado.csv",
         "selic_mvp_simulado.csv",
         1352,
         1743459983000
        ]
       ],
       "datasetInfos": [],
       "dbfsResultPath": null,
       "isJsonSchema": true,
       "metadata": {},
       "overflow": false,
       "plotOptions": {
        "customPlotOptions": {},
        "displayType": "table",
        "pivotAggregation": null,
        "pivotColumns": null,
        "xColumns": null,
        "yColumns": null
       },
       "removedWidgets": [],
       "schema": [
        {
         "metadata": "{}",
         "name": "path",
         "type": "\"string\""
        },
        {
         "metadata": "{}",
         "name": "name",
         "type": "\"string\""
        },
        {
         "metadata": "{}",
         "name": "size",
         "type": "\"long\""
        },
        {
         "metadata": "{}",
         "name": "modificationTime",
         "type": "\"long\""
        }
       ],
       "type": "table"
      }
     },
     "output_type": "display_data"
    }
   ],
   "source": [
    "display(dbutils.fs.ls(\"dbfs:/FileStore/tables\"))\n"
   ]
  }
 ],
 "metadata": {
  "application/vnd.databricks.v1+notebook": {
   "computePreferences": null,
   "dashboards": [],
   "environmentMetadata": {
    "base_environment": "",
    "environment_version": "1"
   },
   "inputWidgetPreferences": null,
   "language": "python",
   "notebookMetadata": {
    "pythonIndentUnit": 4
   },
   "notebookName": "bronze_etl",
   "widgets": {}
  }
 },
 "nbformat": 4,
 "nbformat_minor": 0
}