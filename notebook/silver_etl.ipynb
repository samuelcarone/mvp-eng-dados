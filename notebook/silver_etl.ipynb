{
 "cells": [
  {
   "cell_type": "code",
   "execution_count": 0,
   "metadata": {
    "application/vnd.databricks.v1+cell": {
     "cellMetadata": {
      "byteLimit": 2048000,
      "rowLimit": 10000
     },
     "inputWidgets": {},
     "nuid": "3b6c661c-4965-4816-a00b-ee224193fc64",
     "showTitle": false,
     "tableResultSettingsMap": {},
     "title": ""
    }
   },
   "outputs": [],
   "source": [
    "df_ipca = spark.read.parquet(\"/mnt/bronze/ipca\")\n",
    "df_selic = spark.read.parquet(\"/mnt/bronze/selic\")\n",
    "df_ibov = spark.read.parquet(\"/mnt/bronze/ibov\")\n",
    "\n",
    "df_silver = df_ipca.join(df_selic, on=\"data\", how=\"inner\").join(df_ibov, on=\"data\", how=\"inner\")\n",
    "\n",
    "df_silver.write.mode(\"overwrite\").format(\"parquet\").save(\"/mnt/silver/economia_brasileira\")\n"
   ]
  },
  {
   "cell_type": "code",
   "execution_count": 0,
   "metadata": {
    "application/vnd.databricks.v1+cell": {
     "cellMetadata": {
      "byteLimit": 2048000,
      "rowLimit": 10000
     },
     "inputWidgets": {},
     "nuid": "230e8dc3-0feb-4c86-99fc-23c78b3e2766",
     "showTitle": false,
     "tableResultSettingsMap": {},
     "title": ""
    }
   },
   "outputs": [],
   "source": [
    "df_silver.show()  # ou display(df_silver)\n"
   ]
  },
  {
   "cell_type": "code",
   "execution_count": 0,
   "metadata": {
    "application/vnd.databricks.v1+cell": {
     "cellMetadata": {
      "byteLimit": 2048000,
      "rowLimit": 10000
     },
     "inputWidgets": {},
     "nuid": "589650b8-db79-497f-9c97-0c2eeb2c2c5f",
     "showTitle": false,
     "tableResultSettingsMap": {},
     "title": ""
    }
   },
   "outputs": [],
   "source": [
    "df_gold = spark.read.parquet(\"/mnt/silver/economia_brasileira\")\n"
   ]
  },
  {
   "cell_type": "code",
   "execution_count": 0,
   "metadata": {
    "application/vnd.databricks.v1+cell": {
     "cellMetadata": {
      "byteLimit": 2048000,
      "rowLimit": 10000
     },
     "inputWidgets": {},
     "nuid": "d4f35a86-86bb-47d8-a331-d84a058a83e0",
     "showTitle": false,
     "tableResultSettingsMap": {},
     "title": ""
    }
   },
   "outputs": [
    {
     "output_type": "display_data",
     "data": {
      "text/plain": [
       "\u001B[0;31m---------------------------------------------------------------------------\u001B[0m\n",
       "\u001B[0;31mNameError\u001B[0m                                 Traceback (most recent call last)\n",
       "File \u001B[0;32m<command-1861970413565589>:1\u001B[0m\n",
       "\u001B[0;32m----> 1\u001B[0m \u001B[43mdf_silver\u001B[49m\u001B[38;5;241m.\u001B[39mwrite\u001B[38;5;241m.\u001B[39mmode(\u001B[38;5;124m\"\u001B[39m\u001B[38;5;124moverwrite\u001B[39m\u001B[38;5;124m\"\u001B[39m)\u001B[38;5;241m.\u001B[39msaveAsTable(\u001B[38;5;124m\"\u001B[39m\u001B[38;5;124meconomia_brasileira\u001B[39m\u001B[38;5;124m\"\u001B[39m)\n",
       "\n",
       "\u001B[0;31mNameError\u001B[0m: name 'df_silver' is not defined"
      ]
     },
     "metadata": {
      "application/vnd.databricks.v1+output": {
       "arguments": {},
       "data": "\u001B[0;31m---------------------------------------------------------------------------\u001B[0m\n\u001B[0;31mNameError\u001B[0m                                 Traceback (most recent call last)\nFile \u001B[0;32m<command-1861970413565589>:1\u001B[0m\n\u001B[0;32m----> 1\u001B[0m \u001B[43mdf_silver\u001B[49m\u001B[38;5;241m.\u001B[39mwrite\u001B[38;5;241m.\u001B[39mmode(\u001B[38;5;124m\"\u001B[39m\u001B[38;5;124moverwrite\u001B[39m\u001B[38;5;124m\"\u001B[39m)\u001B[38;5;241m.\u001B[39msaveAsTable(\u001B[38;5;124m\"\u001B[39m\u001B[38;5;124meconomia_brasileira\u001B[39m\u001B[38;5;124m\"\u001B[39m)\n\n\u001B[0;31mNameError\u001B[0m: name 'df_silver' is not defined",
       "errorSummary": "<span class='ansi-red-fg'>NameError</span>: name 'df_silver' is not defined",
       "errorTraceType": "ansi",
       "metadata": {},
       "type": "ipynbError"
      }
     },
     "output_type": "display_data"
    }
   ],
   "source": [
    "df_silver.write.mode(\"overwrite\").saveAsTable(\"economia_brasileira\")\n"
   ]
  },
  {
   "cell_type": "code",
   "execution_count": 0,
   "metadata": {
    "application/vnd.databricks.v1+cell": {
     "cellMetadata": {
      "byteLimit": 2048000,
      "rowLimit": 10000
     },
     "inputWidgets": {},
     "nuid": "ead2f2b0-8428-4c45-b5ad-f1d4361f3478",
     "showTitle": false,
     "tableResultSettingsMap": {},
     "title": ""
    }
   },
   "outputs": [],
   "source": [
    "df_ipca = spark.read.parquet(\"/mnt/bronze/ipca\")\n",
    "df_selic = spark.read.parquet(\"/mnt/bronze/selic\")\n",
    "df_ibov = spark.read.parquet(\"/mnt/bronze/ibov\")\n"
   ]
  },
  {
   "cell_type": "code",
   "execution_count": 0,
   "metadata": {
    "application/vnd.databricks.v1+cell": {
     "cellMetadata": {
      "byteLimit": 2048000,
      "rowLimit": 10000
     },
     "inputWidgets": {},
     "nuid": "392ca73f-46de-47a3-8c26-c90b1f0c3805",
     "showTitle": false,
     "tableResultSettingsMap": {},
     "title": ""
    }
   },
   "outputs": [],
   "source": [
    "df_silver = df_ipca \\\n",
    "    .join(df_selic, on=\"data\", how=\"inner\") \\\n",
    "    .join(df_ibov, on=\"data\", how=\"inner\")\n"
   ]
  },
  {
   "cell_type": "code",
   "execution_count": 0,
   "metadata": {
    "application/vnd.databricks.v1+cell": {
     "cellMetadata": {
      "byteLimit": 2048000,
      "rowLimit": 10000
     },
     "inputWidgets": {},
     "nuid": "4aa7664e-eac2-4b0a-bc7b-5aedf4561a72",
     "showTitle": false,
     "tableResultSettingsMap": {},
     "title": ""
    }
   },
   "outputs": [],
   "source": [
    "df_silver.write.mode(\"overwrite\").saveAsTable(\"economia_brasileira\")\n"
   ]
  },
  {
   "cell_type": "code",
   "execution_count": 0,
   "metadata": {
    "application/vnd.databricks.v1+cell": {
     "cellMetadata": {
      "byteLimit": 2048000,
      "rowLimit": 10000
     },
     "inputWidgets": {},
     "nuid": "c75571aa-8f16-4d46-8bde-6f6658738ee5",
     "showTitle": false,
     "tableResultSettingsMap": {},
     "title": ""
    }
   },
   "outputs": [],
   "source": [
    "# Leitura da camada Bronze\n",
    "df_ipca = spark.read.parquet(\"/mnt/bronze/ipca\")\n",
    "df_selic = spark.read.parquet(\"/mnt/bronze/selic\")\n",
    "df_ibov = spark.read.parquet(\"/mnt/bronze/ibov\")\n",
    "\n",
    "# Junção dos dados para formar a camada Silver\n",
    "df_silver = df_ipca \\\n",
    "    .join(df_selic, on=\"data\", how=\"inner\") \\\n",
    "    .join(df_ibov, on=\"data\", how=\"inner\")\n",
    "\n",
    "# Persistir a camada Silver como tabela no metastore\n",
    "df_silver.write.mode(\"overwrite\").saveAsTable(\"economia_brasileira\")\n"
   ]
  },
  {
   "cell_type": "code",
   "execution_count": 0,
   "metadata": {
    "application/vnd.databricks.v1+cell": {
     "cellMetadata": {
      "byteLimit": 2048000,
      "rowLimit": 10000
     },
     "inputWidgets": {},
     "nuid": "3f1e6355-9509-4545-9cd0-9bafb3425432",
     "showTitle": false,
     "tableResultSettingsMap": {},
     "title": ""
    }
   },
   "outputs": [],
   "source": [
    "df_gold = spark.read.table(\"economia_brasileira\")\n"
   ]
  }
 ],
 "metadata": {
  "application/vnd.databricks.v1+notebook": {
   "computePreferences": null,
   "dashboards": [],
   "environmentMetadata": {
    "base_environment": "",
    "environment_version": "1"
   },
   "inputWidgetPreferences": null,
   "language": "python",
   "notebookMetadata": {
    "pythonIndentUnit": 4
   },
   "notebookName": "silver_etl",
   "widgets": {}
  }
 },
 "nbformat": 4,
 "nbformat_minor": 0
}