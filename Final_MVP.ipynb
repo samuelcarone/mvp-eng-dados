{
 "cells": [
  {
   "cell_type": "code",
   "execution_count": 0,
   "metadata": {
    "application/vnd.databricks.v1+cell": {
     "cellMetadata": {
      "byteLimit": 2048000,
      "rowLimit": 10000
     },
     "inputWidgets": {},
     "nuid": "c5c8f260-e60d-4600-a71a-f2331a5e4a08",
     "showTitle": false,
     "tableResultSettingsMap": {},
     "title": ""
    }
   },
   "outputs": [],
   "source": [
    "%python\n",
    "from IPython.display import display, Markdown\n",
    "\n",
    "display(Markdown(\"# MVP – Engenharia de Dados – Análise Econômica\\n\\nEste notebook apresenta o pipeline de dados construído para analisar a correlação entre IPCA, SELIC e IBOVESPA nos últimos 15 anos, com base em dados públicos simulados. O pipeline segue as etapas BRONZE → SILVER → GOLD, realiza modelagem em estrela e executa análises estatísticas.\"))\n"
   ]
  },
  {
   "cell_type": "code",
   "execution_count": 0,
   "metadata": {
    "application/vnd.databricks.v1+cell": {
     "cellMetadata": {
      "byteLimit": 2048000,
      "rowLimit": 10000
     },
     "inputWidgets": {},
     "nuid": "ee8f06ee-d3d9-49af-932e-144041ae95c5",
     "showTitle": false,
     "tableResultSettingsMap": {},
     "title": ""
    }
   },
   "outputs": [],
   "source": [
    "%python\n",
    "# Configuração Inicial: Criar e usar o banco de dados para o projeto\n",
    "spark.sql(\"CREATE DATABASE IF NOT EXISTS mvp_economia\")\n",
    "spark.sql(\"USE mvp_economia\")\n"
   ]
  },
  {
   "cell_type": "code",
   "execution_count": 0,
   "metadata": {
    "application/vnd.databricks.v1+cell": {
     "cellMetadata": {
      "byteLimit": 2048000,
      "rowLimit": 10000
     },
     "inputWidgets": {},
     "nuid": "d5ce39de-64bb-4fea-8c09-354c9dfeed32",
     "showTitle": false,
     "tableResultSettingsMap": {},
     "title": ""
    }
   },
   "outputs": [],
   "source": [
    "%python\n",
    "from IPython.display import display, Markdown\n",
    "\n",
    "display(Markdown(\"## Leitura dos Dados BRONZE\\n\\nNesta etapa, realizamos a leitura dos arquivos CSV que contêm os dados brutos de IPCA, SELIC e IBOVESPA.\"))\n"
   ]
  },
  {
   "cell_type": "code",
   "execution_count": 0,
   "metadata": {
    "application/vnd.databricks.v1+cell": {
     "cellMetadata": {
      "byteLimit": 2048000,
      "rowLimit": 10000
     },
     "inputWidgets": {},
     "nuid": "4c5f589a-6c8c-4811-9292-4ef828f70218",
     "showTitle": false,
     "tableResultSettingsMap": {},
     "title": ""
    }
   },
   "outputs": [],
   "source": [
    "%python\n",
    "path_ipca = \"/FileStore/tables/ipca.csv\"\n",
    "path_selic = \"/FileStore/tables/selic.csv\"\n",
    "path_ibov = \"/FileStore/tables/ibov.csv\"\n",
    "\n",
    "df_ipca_bronze = spark.read.option(\"header\", True).option(\"inferSchema\", True).csv(path_ipca)\n",
    "df_selic_bronze = spark.read.option(\"header\", True).option(\"inferSchema\", True).csv(path_selic)\n",
    "df_ibov_bronze = spark.read.option(\"header\", True).option(\"inferSchema\", True).csv(path_ibov)\n"
   ]
  },
  {
   "cell_type": "code",
   "execution_count": 0,
   "metadata": {
    "application/vnd.databricks.v1+cell": {
     "cellMetadata": {
      "byteLimit": 2048000,
      "rowLimit": 10000
     },
     "inputWidgets": {},
     "nuid": "daf703c9-6aeb-4bc6-80d7-e36b9e601364",
     "showTitle": false,
     "tableResultSettingsMap": {},
     "title": ""
    }
   },
   "outputs": [],
   "source": [
    "%python\n",
    "display(dbutils.fs.ls(\"/FileStore/\"))\n"
   ]
  },
  {
   "cell_type": "code",
   "execution_count": 0,
   "metadata": {
    "application/vnd.databricks.v1+cell": {
     "cellMetadata": {
      "byteLimit": 2048000,
      "rowLimit": 10000
     },
     "inputWidgets": {},
     "nuid": "712ce181-0619-442b-88b1-849c2c1b10a9",
     "showTitle": false,
     "tableResultSettingsMap": {},
     "title": ""
    }
   },
   "outputs": [],
   "source": [
    "%python\n",
    "# Lendo o arquivo combinado BRONZE\n",
    "path_economia = \"/FileStore/economia_correlacao.csv\"\n",
    "\n",
    "df_economia_bronze = spark.read.option(\"header\", True).option(\"inferSchema\", True).csv(path_economia)\n",
    "\n",
    "# Mostrar os dados lidos\n",
    "display(df_economia_bronze)\n"
   ]
  },
  {
   "cell_type": "code",
   "execution_count": 0,
   "metadata": {
    "application/vnd.databricks.v1+cell": {
     "cellMetadata": {
      "byteLimit": 2048000,
      "rowLimit": 10000
     },
     "inputWidgets": {},
     "nuid": "74e772d4-8f41-4e63-bca8-be61d5f7ac60",
     "showTitle": false,
     "tableResultSettingsMap": {},
     "title": ""
    }
   },
   "outputs": [],
   "source": [
    "%python\n",
    "from IPython.display import display, Markdown\n",
    "\n",
    "display(Markdown(\"## Transformação SILVER\\n\\nNesta etapa, realizamos a limpeza e padronização dos dados brutos, garantindo qualidade e consistência para as próximas análises.\"))\n"
   ]
  },
  {
   "cell_type": "code",
   "execution_count": 0,
   "metadata": {
    "application/vnd.databricks.v1+cell": {
     "cellMetadata": {
      "byteLimit": 2048000,
      "rowLimit": 10000
     },
     "inputWidgets": {},
     "nuid": "1637109f-33a7-4f13-a309-8588e8a65c65",
     "showTitle": false,
     "tableResultSettingsMap": {},
     "title": ""
    }
   },
   "outputs": [],
   "source": [
    "%python\n",
    "# Removendo registros nulos\n",
    "df_economia_silver = df_economia_bronze.dropna()\n",
    "\n",
    "# Conferindo o resultado\n",
    "display(df_economia_silver)\n"
   ]
  },
  {
   "cell_type": "code",
   "execution_count": 0,
   "metadata": {
    "application/vnd.databricks.v1+cell": {
     "cellMetadata": {
      "byteLimit": 2048000,
      "rowLimit": 10000
     },
     "inputWidgets": {},
     "nuid": "1d0dc8a0-8488-44af-b315-b5a13e32bd5f",
     "showTitle": false,
     "tableResultSettingsMap": {},
     "title": ""
    }
   },
   "outputs": [],
   "source": [
    "%python\n",
    "# Salvando o dado como tabela GOLD\n",
    "df_economia_silver.write.format(\"delta\").mode(\"overwrite\").saveAsTable(\"gold_economia\")\n"
   ]
  },
  {
   "cell_type": "code",
   "execution_count": 0,
   "metadata": {
    "application/vnd.databricks.v1+cell": {
     "cellMetadata": {
      "byteLimit": 2048000,
      "rowLimit": 10000
     },
     "inputWidgets": {},
     "nuid": "4e4a3d84-c9d3-4e44-9263-2a3e26215c4f",
     "showTitle": false,
     "tableResultSettingsMap": {},
     "title": ""
    }
   },
   "outputs": [],
   "source": [
    "%python\n",
    "display(Markdown(\"## Modelagem em Estrela\\n\\nNesta etapa, criamos uma tabela fato principal e tabelas de dimensão para os indicadores econômicos, utilizando a camada GOLD como fonte de dados.\"))\n"
   ]
  },
  {
   "cell_type": "code",
   "execution_count": 0,
   "metadata": {
    "application/vnd.databricks.v1+cell": {
     "cellMetadata": {
      "byteLimit": 2048000,
      "rowLimit": 10000
     },
     "inputWidgets": {},
     "nuid": "dd110cc5-f061-4fd5-bf34-97b6520e3610",
     "showTitle": false,
     "tableResultSettingsMap": {},
     "title": ""
    }
   },
   "outputs": [],
   "source": [
    "%python\n",
    "# Lendo a tabela GOLD\n",
    "df_gold = spark.table(\"gold_economia\")\n",
    "\n",
    "# Criando Tabela Fato (com todas as colunas)\n",
    "df_fato = df_gold.select(\n",
    "    \"data\",\n",
    "    \"ipca\",\n",
    "    \"selic\",\n",
    "    \"ibov\"\n",
    ")\n",
    "\n",
    "df_fato.write.format(\"delta\").mode(\"overwrite\").saveAsTable(\"fato_economia\")\n",
    "\n",
    "# Criando Tabela Dimensão IPCA\n",
    "df_dim_ipca = df_gold.select(\n",
    "    \"data\",\n",
    "    \"ipca\"\n",
    ")\n",
    "\n",
    "df_dim_ipca.write.format(\"delta\").mode(\"overwrite\").saveAsTable(\"dim_ipca\")\n",
    "\n",
    "# Criando Tabela Dimensão SELIC\n",
    "df_dim_selic = df_gold.select(\n",
    "    \"data\",\n",
    "    \"selic\"\n",
    ")\n",
    "\n",
    "df_dim_selic.write.format(\"delta\").mode(\"overwrite\").saveAsTable(\"dim_selic\")\n",
    "\n",
    "# Criando Tabela Dimensão IBOV\n",
    "df_dim_ibov = df_gold.select(\n",
    "    \"data\",\n",
    "    \"ibov\"\n",
    ")\n",
    "\n",
    "df_dim_ibov.write.format(\"delta\").mode(\"overwrite\").saveAsTable(\"dim_ibov\")\n"
   ]
  },
  {
   "cell_type": "code",
   "execution_count": 0,
   "metadata": {
    "application/vnd.databricks.v1+cell": {
     "cellMetadata": {
      "byteLimit": 2048000,
      "rowLimit": 10000
     },
     "inputWidgets": {},
     "nuid": "261d7d15-ca0e-43a3-ad43-d74e036d9e38",
     "showTitle": false,
     "tableResultSettingsMap": {},
     "title": ""
    }
   },
   "outputs": [],
   "source": [
    "%python\n",
    "spark.sql(\"DROP TABLE IF EXISTS fato_economia\")\n",
    "spark.sql(\"DROP TABLE IF EXISTS dim_ipca\")\n",
    "spark.sql(\"DROP TABLE IF EXISTS dim_selic\")\n",
    "spark.sql(\"DROP TABLE IF EXISTS dim_ibov\")\n"
   ]
  },
  {
   "cell_type": "code",
   "execution_count": 0,
   "metadata": {
    "application/vnd.databricks.v1+cell": {
     "cellMetadata": {
      "byteLimit": 2048000,
      "rowLimit": 10000
     },
     "inputWidgets": {},
     "nuid": "71a03a58-89be-41cd-8d42-5052913c283e",
     "showTitle": false,
     "tableResultSettingsMap": {},
     "title": ""
    }
   },
   "outputs": [],
   "source": [
    "%python\n",
    "# Lendo a tabela GOLD\n",
    "df_gold = spark.table(\"gold_economia\")\n",
    "\n",
    "# Criando Tabela Fato\n",
    "df_fato = df_gold.select(\n",
    "    \"data\",\n",
    "    \"ipca\",\n",
    "    \"selic\",\n",
    "    \"ibov\"\n",
    ")\n",
    "df_fato.write.format(\"delta\").mode(\"overwrite\").saveAsTable(\"fato_economia\")\n",
    "\n",
    "# Criando Tabela Dimensão IPCA\n",
    "df_dim_ipca = df_gold.select(\n",
    "    \"data\",\n",
    "    \"ipca\"\n",
    ")\n",
    "df_dim_ipca.write.format(\"delta\").mode(\"overwrite\").saveAsTable(\"dim_ipca\")\n",
    "\n",
    "# Criando Tabela Dimensão SELIC\n",
    "df_dim_selic = df_gold.select(\n",
    "    \"data\",\n",
    "    \"selic\"\n",
    ")\n",
    "df_dim_selic.write.format(\"delta\").mode(\"overwrite\").saveAsTable(\"dim_selic\")\n",
    "\n",
    "# Criando Tabela Dimensão IBOV\n",
    "df_dim_ibov = df_gold.select(\n",
    "    \"data\",\n",
    "    \"ibov\"\n",
    ")\n",
    "df_dim_ibov.write.format(\"delta\").mode(\"overwrite\").saveAsTable(\"dim_ibov\")\n"
   ]
  },
  {
   "cell_type": "code",
   "execution_count": 0,
   "metadata": {
    "application/vnd.databricks.v1+cell": {
     "cellMetadata": {
      "byteLimit": 2048000,
      "rowLimit": 10000
     },
     "inputWidgets": {},
     "nuid": "73feafd7-d0e0-4f79-8279-ba8cab37121d",
     "showTitle": false,
     "tableResultSettingsMap": {},
     "title": ""
    }
   },
   "outputs": [],
   "source": [
    "%python\n",
    "# Lendo a tabela GOLD\n",
    "df_gold = spark.table(\"gold_economia\")\n",
    "\n",
    "# Criando Tabela Fato\n",
    "df_fato = df_gold.select(\n",
    "    \"data\",\n",
    "    \"ipca\",\n",
    "    \"selic\",\n",
    "    \"ibov\"\n",
    ")\n",
    "df_fato.write.option(\"mergeSchema\", \"true\").format(\"delta\").mode(\"overwrite\").saveAsTable(\"fato_economia\")\n",
    "\n",
    "# Criando Tabela Dimensão IPCA\n",
    "df_dim_ipca = df_gold.select(\n",
    "    \"data\",\n",
    "    \"ipca\"\n",
    ")\n",
    "df_dim_ipca.write.option(\"mergeSchema\", \"true\").format(\"delta\").mode(\"overwrite\").saveAsTable(\"dim_ipca\")\n",
    "\n",
    "# Criando Tabela Dimensão SELIC\n",
    "df_dim_selic = df_gold.select(\n",
    "    \"data\",\n",
    "    \"selic\"\n",
    ")\n",
    "df_dim_selic.write.option(\"mergeSchema\", \"true\").format(\"delta\").mode(\"overwrite\").saveAsTable(\"dim_selic\")\n",
    "\n",
    "# Criando Tabela Dimensão IBOV\n",
    "df_dim_ibov = df_gold.select(\n",
    "    \"data\",\n",
    "    \"ibov\"\n",
    ")\n",
    "df_dim_ibov.write.option(\"mergeSchema\", \"true\").format(\"delta\").mode(\"overwrite\").saveAsTable(\"dim_ibov\")\n"
   ]
  },
  {
   "cell_type": "code",
   "execution_count": 0,
   "metadata": {
    "application/vnd.databricks.v1+cell": {
     "cellMetadata": {
      "byteLimit": 2048000,
      "rowLimit": 10000
     },
     "inputWidgets": {},
     "nuid": "cf8bbdb6-0546-4ae1-9770-a53c1486ed1a",
     "showTitle": false,
     "tableResultSettingsMap": {},
     "title": ""
    }
   },
   "outputs": [],
   "source": [
    "from IPython.display import display, Markdown\n",
    "\n",
    "display(Markdown(\"## Consultas SQL com JOINs\\n\\nNesta etapa, realizamos consultas relacionando a tabela fato com as tabelas dimensão, utilizando comandos SQL.\"))\n"
   ]
  },
  {
   "cell_type": "code",
   "execution_count": 0,
   "metadata": {
    "application/vnd.databricks.v1+cell": {
     "cellMetadata": {
      "byteLimit": 2048000,
      "rowLimit": 10000
     },
     "inputWidgets": {},
     "nuid": "9e20732f-4cc0-410a-8a5f-70e01a67d06f",
     "showTitle": false,
     "tableResultSettingsMap": {},
     "title": ""
    }
   },
   "outputs": [],
   "source": [
    "# Exemplo de JOIN entre fato_economia e dim_ipca\n",
    "display(spark.sql(\"\"\"\n",
    "SELECT f.data, f.selic, f.ibov, d.ipca\n",
    "FROM fato_economia f\n",
    "INNER JOIN dim_ipca d\n",
    "ON f.data = d.data\n",
    "ORDER BY f.data\n",
    "\"\"\"))\n"
   ]
  },
  {
   "cell_type": "code",
   "execution_count": 0,
   "metadata": {
    "application/vnd.databricks.v1+cell": {
     "cellMetadata": {
      "byteLimit": 2048000,
      "rowLimit": 10000
     },
     "inputWidgets": {},
     "nuid": "48822f52-1dc8-449e-8714-102cfcc82e58",
     "showTitle": false,
     "tableResultSettingsMap": {},
     "title": ""
    }
   },
   "outputs": [],
   "source": [
    "# JOIN usando o nome do banco explicitamente\n",
    "display(spark.sql(\"\"\"\n",
    "SELECT f.data, f.selic, f.ibov, d.ipca\n",
    "FROM mvp_economia.fato_economia f\n",
    "INNER JOIN mvp_economia.dim_ipca d\n",
    "ON f.data = d.data\n",
    "ORDER BY f.data\n",
    "\"\"\"))\n"
   ]
  },
  {
   "cell_type": "code",
   "execution_count": 0,
   "metadata": {
    "application/vnd.databricks.v1+cell": {
     "cellMetadata": {
      "byteLimit": 2048000,
      "rowLimit": 10000
     },
     "inputWidgets": {},
     "nuid": "92542ddd-3344-4fd5-8cd4-ebb953fd169d",
     "showTitle": false,
     "tableResultSettingsMap": {},
     "title": ""
    }
   },
   "outputs": [],
   "source": [
    "display(Markdown(\"### Consulta: Fato + Dimensão SELIC\"))\n",
    "\n",
    "display(spark.sql(\"\"\"\n",
    "SELECT f.data, f.ipca, f.ibov, d.selic\n",
    "FROM mvp_economia.fato_economia f\n",
    "INNER JOIN mvp_economia.dim_selic d\n",
    "ON f.data = d.data\n",
    "ORDER BY f.data\n",
    "\"\"\"))\n"
   ]
  },
  {
   "cell_type": "code",
   "execution_count": 0,
   "metadata": {
    "application/vnd.databricks.v1+cell": {
     "cellMetadata": {
      "byteLimit": 2048000,
      "rowLimit": 10000
     },
     "inputWidgets": {},
     "nuid": "af600da3-6dc8-474d-a171-ed5e000ab078",
     "showTitle": false,
     "tableResultSettingsMap": {},
     "title": ""
    }
   },
   "outputs": [],
   "source": [
    "display(Markdown(\"### Consulta: Fato + Dimensão IBOV\"))\n",
    "\n",
    "display(spark.sql(\"\"\"\n",
    "SELECT f.data, f.ipca, f.selic, d.ibov\n",
    "FROM mvp_economia.fato_economia f\n",
    "INNER JOIN mvp_economia.dim_ibov d\n",
    "ON f.data = d.data\n",
    "ORDER BY f.data\n",
    "\"\"\"))\n"
   ]
  },
  {
   "cell_type": "code",
   "execution_count": 0,
   "metadata": {
    "application/vnd.databricks.v1+cell": {
     "cellMetadata": {
      "byteLimit": 2048000,
      "rowLimit": 10000
     },
     "inputWidgets": {},
     "nuid": "03598702-3481-424a-a965-1384b9bf1944",
     "showTitle": false,
     "tableResultSettingsMap": {},
     "title": ""
    }
   },
   "outputs": [],
   "source": [
    "from IPython.display import display, Markdown\n",
    "\n",
    "display(Markdown(\"## Análises Estatísticas e Visualizações\\n\\nNesta etapa, analisamos a correlação entre IPCA, SELIC e IBOVESPA, aplicamos regressão linear e geramos gráficos para melhor compreensão dos dados.\"))\n"
   ]
  },
  {
   "cell_type": "code",
   "execution_count": 0,
   "metadata": {
    "application/vnd.databricks.v1+cell": {
     "cellMetadata": {
      "byteLimit": 2048000,
      "rowLimit": 10000
     },
     "inputWidgets": {},
     "nuid": "435913bd-9ca4-4da8-afa9-47b78010458c",
     "showTitle": false,
     "tableResultSettingsMap": {},
     "title": ""
    }
   },
   "outputs": [],
   "source": [
    "# Lendo a tabela GOLD para análise (com nome do banco)\n",
    "df_gold = spark.table(\"mvp_economia.gold_economia\")\n"
   ]
  },
  {
   "cell_type": "code",
   "execution_count": 0,
   "metadata": {
    "application/vnd.databricks.v1+cell": {
     "cellMetadata": {
      "byteLimit": 2048000,
      "rowLimit": 10000
     },
     "inputWidgets": {},
     "nuid": "459730a3-f1c6-497d-b0ec-c9f34a7aa0ac",
     "showTitle": false,
     "tableResultSettingsMap": {},
     "title": ""
    }
   },
   "outputs": [],
   "source": [
    "# Importando a biblioteca pandas\n",
    "import pandas as pd\n",
    "\n",
    "# Convertendo Spark DataFrame para Pandas DataFrame\n",
    "pdf_gold = df_gold.toPandas()\n",
    "\n",
    "# Calculando a matriz de correlação\n",
    "correlation_matrix = pdf_gold.corr()\n",
    "\n",
    "# Exibindo a matriz de correlação\n",
    "display(correlation_matrix)\n"
   ]
  },
  {
   "cell_type": "code",
   "execution_count": 0,
   "metadata": {
    "application/vnd.databricks.v1+cell": {
     "cellMetadata": {
      "byteLimit": 2048000,
      "rowLimit": 10000
     },
     "inputWidgets": {},
     "nuid": "29a97701-7961-4e08-83f0-9c4c89966348",
     "showTitle": false,
     "tableResultSettingsMap": {},
     "title": ""
    }
   },
   "outputs": [],
   "source": [
    "from IPython.display import display, Markdown\n",
    "\n",
    "display(Markdown(\"## Regressão Linear Simples\\n\\nNesta etapa, aplicamos uma regressão linear para analisar a relação entre a taxa SELIC e o índice IBOVESPA.\"))\n"
   ]
  },
  {
   "cell_type": "code",
   "execution_count": 0,
   "metadata": {
    "application/vnd.databricks.v1+cell": {
     "cellMetadata": {
      "byteLimit": 2048000,
      "rowLimit": 10000
     },
     "inputWidgets": {},
     "nuid": "a79373a2-a641-4095-a6ee-15228afef0f9",
     "showTitle": false,
     "tableResultSettingsMap": {},
     "title": ""
    }
   },
   "outputs": [],
   "source": [
    "# Importando biblioteca de regressão\n",
    "from sklearn.linear_model import LinearRegression\n",
    "\n",
    "# Definindo variável independente (X) e dependente (y)\n",
    "X = pdf_gold[[\"selic\"]]\n",
    "y = pdf_gold[\"ibov\"]\n",
    "\n",
    "# Criando o modelo\n",
    "model = LinearRegression()\n",
    "\n",
    "# Treinando o modelo\n",
    "model.fit(X, y)\n",
    "\n",
    "# Coeficiente e Intercepto\n",
    "coef = model.coef_[0]\n",
    "intercept = model.intercept_\n",
    "\n",
    "print(f\"Equação da Regressão: IBOV = {coef:.2f} * SELIC + {intercept:.2f}\")\n"
   ]
  },
  {
   "cell_type": "code",
   "execution_count": 0,
   "metadata": {
    "application/vnd.databricks.v1+cell": {
     "cellMetadata": {
      "byteLimit": 2048000,
      "rowLimit": 10000
     },
     "inputWidgets": {},
     "nuid": "a8ac091e-094e-40a2-9629-5376c079bd3e",
     "showTitle": false,
     "tableResultSettingsMap": {},
     "title": ""
    }
   },
   "outputs": [],
   "source": [
    "# Importando a biblioteca de plotagem\n",
    "import matplotlib.pyplot as plt\n",
    "\n",
    "# Criando o gráfico de dispersão\n",
    "plt.scatter(X.values, y.values, label=\"Dados reais\")\n",
    "plt.plot(X.values, model.predict(X), label=\"Regressão Linear\", linewidth=2)\n",
    "\n",
    "# Adicionando título e legendas\n",
    "plt.title(\"Regressão Linear - SELIC vs IBOVESPA\")\n",
    "plt.xlabel(\"SELIC (%)\")\n",
    "plt.ylabel(\"IBOVESPA\")\n",
    "plt.legend()\n",
    "plt.grid(True)\n",
    "plt.show()\n"
   ]
  },
  {
   "cell_type": "code",
   "execution_count": 0,
   "metadata": {
    "application/vnd.databricks.v1+cell": {
     "cellMetadata": {
      "byteLimit": 2048000,
      "rowLimit": 10000
     },
     "inputWidgets": {},
     "nuid": "afdb0a31-4471-42f8-9a00-2100e556368d",
     "showTitle": false,
     "tableResultSettingsMap": {},
     "title": ""
    }
   },
   "outputs": [],
   "source": [
    "from IPython.display import display, Markdown\n",
    "\n",
    "display(Markdown(\"## Conclusão\\n\\nO pipeline de dados implementado neste projeto permitiu a análise da relação entre o IPCA, a SELIC e o IBOVESPA nos últimos 15 anos. A estrutura em camadas (BRONZE, SILVER e GOLD) garantiu a qualidade e a organização dos dados.\\n\\nA análise de correlação revelou relações econômicas esperadas, como a correlação negativa entre a taxa SELIC e o índice IBOVESPA. A regressão linear simples confirmou essa tendência, mostrando que o aumento da SELIC tende a impactar negativamente o IBOVESPA.\\n\\nAs tabelas foram modeladas em estrela para facilitar consultas e análises, e o pipeline está preparado para ser reutilizado com novos dados futuros.\")) \n"
   ]
  },
  {
   "cell_type": "code",
   "execution_count": 0,
   "metadata": {
    "application/vnd.databricks.v1+cell": {
     "cellMetadata": {
      "byteLimit": 2048000,
      "rowLimit": 10000
     },
     "inputWidgets": {},
     "nuid": "153db062-477a-42f6-84d8-e18ced6ed8df",
     "showTitle": false,
     "tableResultSettingsMap": {},
     "title": ""
    }
   },
   "outputs": [],
   "source": [
    "df_gold = spark.table(\"mvp_economia.gold_economia\")\n",
    "display(df_gold)\n"
   ]
  },
  {
   "cell_type": "code",
   "execution_count": 0,
   "metadata": {
    "application/vnd.databricks.v1+cell": {
     "cellMetadata": {
      "byteLimit": 2048000,
      "implicitDf": true,
      "rowLimit": 10000
     },
     "inputWidgets": {},
     "nuid": "252c0979-5362-4f69-b8df-867024cce0af",
     "showTitle": false,
     "tableResultSettingsMap": {},
     "title": ""
    }
   },
   "outputs": [],
   "source": [
    "%sql\n",
    "SELECT f.data, f.selic, f.ibov, d.ipca\n",
    "FROM mvp_economia.fato_economia f\n",
    "INNER JOIN mvp_economia.dim_ipca d\n",
    "ON f.data = d.data\n",
    "ORDER BY f.data\n"
   ]
  },
  {
   "cell_type": "code",
   "execution_count": 0,
   "metadata": {
    "application/vnd.databricks.v1+cell": {
     "cellMetadata": {
      "byteLimit": 2048000,
      "rowLimit": 10000
     },
     "inputWidgets": {},
     "nuid": "7e471aad-b821-4498-bd8e-73158b08096e",
     "showTitle": false,
     "tableResultSettingsMap": {},
     "title": ""
    }
   },
   "outputs": [],
   "source": [
    "correlation_matrix = pdf_gold.corr()\n",
    "display(correlation_matrix)\n"
   ]
  },
  {
   "cell_type": "code",
   "execution_count": 0,
   "metadata": {
    "application/vnd.databricks.v1+cell": {
     "cellMetadata": {
      "byteLimit": 2048000,
      "rowLimit": 10000
     },
     "inputWidgets": {},
     "nuid": "653ced18-075d-41b3-a5fd-b916b5342ef4",
     "showTitle": false,
     "tableResultSettingsMap": {},
     "title": ""
    }
   },
   "outputs": [],
   "source": [
    "plt.scatter(X.values, y.values, label=\"Dados reais\")\n",
    "plt.plot(X.values, model.predict(X), label=\"Regressão Linear\", linewidth=2)\n",
    "plt.title(\"Regressão Linear - SELIC vs IBOVESPA\")\n"
   ]
  },
  {
   "cell_type": "markdown",
   "metadata": {
    "application/vnd.databricks.v1+cell": {
     "cellMetadata": {
      "byteLimit": 2048000,
      "rowLimit": 10000
     },
     "inputWidgets": {},
     "nuid": "d625d855-bfb4-4459-8f28-29b7d8d53012",
     "showTitle": false,
     "tableResultSettingsMap": {},
     "title": ""
    }
   },
   "source": [
    "# 📚 Catálogo de Dados e Linhagem de Dados (Camada GOLD)\n",
    "\n",
    "## 📄 Catálogo de Dados\n",
    "\n",
    "| Nome da Tabela | Nome da Coluna | Tipo de Dado | Descrição | Origem |\n",
    "|:--------------|:---------------|:------------|:---------|:------|\n",
    "| fato_economia | data_id         | Date        | Data do registro econômico | Derivado da camada Silver |\n",
    "| fato_economia | ipca_id         | Integer     | Chave estrangeira para dimensão IPCA | Derivado da camada Silver |\n",
    "| fato_economia | selic_id        | Integer     | Chave estrangeira para dimensão SELIC | Derivado da camada Silver |\n",
    "| fato_economia | ibov_id         | Integer     | Chave estrangeira para dimensão IBOVESPA | Derivado da camada Silver |\n",
    "| dim_ipca      | ipca_id         | Integer     | Identificador único da dimensão IPCA | Gerado na camada GOLD |\n",
    "| dim_ipca      | ipca_valor      | Decimal     | Valor mensal do IPCA | Fonte: CSV IPCA |\n",
    "| dim_selic     | selic_id        | Integer     | Identificador único da dimensão SELIC | Gerado na camada GOLD |\n",
    "| dim_selic     | selic_valor     | Decimal     | Valor mensal da taxa SELIC | Fonte: CSV SELIC |\n",
    "| dim_ibov      | ibov_id         | Integer     | Identificador único da dimensão IBOVESPA | Gerado na camada GOLD |\n",
    "| dim_ibov      | ibov_valor      | Decimal     | Valor mensal do índice IBOVESPA | Fonte: CSV IBOVESPA |\n",
    "\n",
    "---\n",
    "\n",
    "## 🛤️ Linhagem de Dados\n",
    "\n",
    "**Descrição da Jornada dos Dados:**\n",
    "\n",
    "1. **Coleta**:  \n",
    "   - Dados brutos de IPCA, SELIC e IBOVESPA são carregados em arquivos CSV.\n",
    "\n",
    "2. **Camada BRONZE**:  \n",
    "   - Armazenamento inicial dos dados sem transformação no Databricks.\n",
    "\n",
    "3. **Camada SILVER**:  \n",
    "   - Limpeza, padronização e tratamento dos dados.\n",
    "\n",
    "4. **Camada GOLD**:  \n",
    "   - Modelagem dimensional em tabelas fato e dimensão, relacionando dados econômicos.\n",
    "\n",
    "**Fluxo de Dados:**\n",
    "\n"
   ]
  }
 ],
 "metadata": {
  "application/vnd.databricks.v1+notebook": {
   "computePreferences": null,
   "dashboards": [],
   "environmentMetadata": {
    "base_environment": "",
    "environment_version": "1"
   },
   "inputWidgetPreferences": null,
   "language": "python",
   "notebookMetadata": {
    "mostRecentlyExecutedCommandWithImplicitDF": {
     "commandId": 3105057663854772,
     "dataframes": [
      "_sqldf"
     ]
    },
    "pythonIndentUnit": 4
   },
   "notebookName": "Final_MVP",
   "widgets": {}
  }
 },
 "nbformat": 4,
 "nbformat_minor": 0
}