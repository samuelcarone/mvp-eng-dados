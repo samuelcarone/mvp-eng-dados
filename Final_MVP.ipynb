{
 "cells": [
  {
   "cell_type": "code",
   "execution_count": 0,
   "metadata": {
    "application/vnd.databricks.v1+cell": {
     "cellMetadata": {
      "byteLimit": 2048000,
      "rowLimit": 10000
     },
     "inputWidgets": {},
     "nuid": "c5c8f260-e60d-4600-a71a-f2331a5e4a08",
     "showTitle": false,
     "tableResultSettingsMap": {},
     "title": ""
    }
   },
   "outputs": [
    {
     "output_type": "display_data",
     "data": {
      "text/markdown": [
       "# MVP – Engenharia de Dados – Análise Econômica\n",
       "\n",
       "Este notebook apresenta o pipeline de dados construído para analisar a correlação entre IPCA, SELIC e IBOVESPA nos últimos 15 anos, com base em dados públicos simulados. O pipeline segue as etapas BRONZE → SILVER → GOLD, realiza modelagem em estrela e executa análises estatísticas."
      ],
      "text/plain": [
       "<IPython.core.display.Markdown object>"
      ]
     },
     "metadata": {},
     "output_type": "display_data"
    }
   ],
   "source": [
    "%python\n",
    "from IPython.display import display, Markdown\n",
    "\n",
    "display(Markdown(\"# MVP – Engenharia de Dados – Análise Econômica\\n\\nEste notebook apresenta o pipeline de dados construído para analisar a correlação entre IPCA, SELIC e IBOVESPA nos últimos 15 anos, com base em dados públicos simulados. O pipeline segue as etapas BRONZE → SILVER → GOLD, realiza modelagem em estrela e executa análises estatísticas.\"))\n"
   ]
  },
  {
   "cell_type": "code",
   "execution_count": 0,
   "metadata": {
    "application/vnd.databricks.v1+cell": {
     "cellMetadata": {
      "byteLimit": 2048000,
      "rowLimit": 10000
     },
     "inputWidgets": {},
     "nuid": "ee8f06ee-d3d9-49af-932e-144041ae95c5",
     "showTitle": false,
     "tableResultSettingsMap": {},
     "title": ""
    }
   },
   "outputs": [
    {
     "output_type": "stream",
     "name": "stdout",
     "output_type": "stream",
     "text": [
      "Out[2]: DataFrame[]"
     ]
    }
   ],
   "source": [
    "%python\n",
    "# Configuração Inicial: Criar e usar o banco de dados para o projeto\n",
    "spark.sql(\"CREATE DATABASE IF NOT EXISTS mvp_economia\")\n",
    "spark.sql(\"USE mvp_economia\")\n"
   ]
  },
  {
   "cell_type": "code",
   "execution_count": 0,
   "metadata": {
    "application/vnd.databricks.v1+cell": {
     "cellMetadata": {
      "byteLimit": 2048000,
      "rowLimit": 10000
     },
     "inputWidgets": {},
     "nuid": "d5ce39de-64bb-4fea-8c09-354c9dfeed32",
     "showTitle": false,
     "tableResultSettingsMap": {},
     "title": ""
    }
   },
   "outputs": [
    {
     "output_type": "display_data",
     "data": {
      "text/markdown": [
       "## Leitura dos Dados BRONZE\n",
       "\n",
       "Nesta etapa, realizamos a leitura dos arquivos CSV que contêm os dados brutos de IPCA, SELIC e IBOVESPA."
      ],
      "text/plain": [
       "<IPython.core.display.Markdown object>"
      ]
     },
     "metadata": {},
     "output_type": "display_data"
    }
   ],
   "source": [
    "%python\n",
    "from IPython.display import display, Markdown\n",
    "\n",
    "display(Markdown(\"## Leitura dos Dados BRONZE\\n\\nNesta etapa, realizamos a leitura dos arquivos CSV que contêm os dados brutos de IPCA, SELIC e IBOVESPA.\"))\n"
   ]
  },
  {
   "cell_type": "code",
   "execution_count": 0,
   "metadata": {
    "application/vnd.databricks.v1+cell": {
     "cellMetadata": {
      "byteLimit": 2048000,
      "rowLimit": 10000
     },
     "inputWidgets": {},
     "nuid": "4c5f589a-6c8c-4811-9292-4ef828f70218",
     "showTitle": false,
     "tableResultSettingsMap": {},
     "title": ""
    }
   },
   "outputs": [
    {
     "output_type": "display_data",
     "data": {
      "text/plain": [
       "\u001B[0;31m---------------------------------------------------------------------------\u001B[0m\n",
       "\u001B[0;31mAnalysisException\u001B[0m                         Traceback (most recent call last)\n",
       "File \u001B[0;32m<command-3105057663854746>:5\u001B[0m\n",
       "\u001B[1;32m      2\u001B[0m path_selic \u001B[38;5;241m=\u001B[39m \u001B[38;5;124m\"\u001B[39m\u001B[38;5;124m/FileStore/tables/selic.csv\u001B[39m\u001B[38;5;124m\"\u001B[39m\n",
       "\u001B[1;32m      3\u001B[0m path_ibov \u001B[38;5;241m=\u001B[39m \u001B[38;5;124m\"\u001B[39m\u001B[38;5;124m/FileStore/tables/ibov.csv\u001B[39m\u001B[38;5;124m\"\u001B[39m\n",
       "\u001B[0;32m----> 5\u001B[0m df_ipca_bronze \u001B[38;5;241m=\u001B[39m spark\u001B[38;5;241m.\u001B[39mread\u001B[38;5;241m.\u001B[39moption(\u001B[38;5;124m\"\u001B[39m\u001B[38;5;124mheader\u001B[39m\u001B[38;5;124m\"\u001B[39m, \u001B[38;5;28;01mTrue\u001B[39;00m)\u001B[38;5;241m.\u001B[39moption(\u001B[38;5;124m\"\u001B[39m\u001B[38;5;124minferSchema\u001B[39m\u001B[38;5;124m\"\u001B[39m, \u001B[38;5;28;01mTrue\u001B[39;00m)\u001B[38;5;241m.\u001B[39mcsv(path_ipca)\n",
       "\u001B[1;32m      6\u001B[0m df_selic_bronze \u001B[38;5;241m=\u001B[39m spark\u001B[38;5;241m.\u001B[39mread\u001B[38;5;241m.\u001B[39moption(\u001B[38;5;124m\"\u001B[39m\u001B[38;5;124mheader\u001B[39m\u001B[38;5;124m\"\u001B[39m, \u001B[38;5;28;01mTrue\u001B[39;00m)\u001B[38;5;241m.\u001B[39moption(\u001B[38;5;124m\"\u001B[39m\u001B[38;5;124minferSchema\u001B[39m\u001B[38;5;124m\"\u001B[39m, \u001B[38;5;28;01mTrue\u001B[39;00m)\u001B[38;5;241m.\u001B[39mcsv(path_selic)\n",
       "\u001B[1;32m      7\u001B[0m df_ibov_bronze \u001B[38;5;241m=\u001B[39m spark\u001B[38;5;241m.\u001B[39mread\u001B[38;5;241m.\u001B[39moption(\u001B[38;5;124m\"\u001B[39m\u001B[38;5;124mheader\u001B[39m\u001B[38;5;124m\"\u001B[39m, \u001B[38;5;28;01mTrue\u001B[39;00m)\u001B[38;5;241m.\u001B[39moption(\u001B[38;5;124m\"\u001B[39m\u001B[38;5;124minferSchema\u001B[39m\u001B[38;5;124m\"\u001B[39m, \u001B[38;5;28;01mTrue\u001B[39;00m)\u001B[38;5;241m.\u001B[39mcsv(path_ibov)\n",
       "\n",
       "File \u001B[0;32m/databricks/spark/python/pyspark/instrumentation_utils.py:48\u001B[0m, in \u001B[0;36m_wrap_function.<locals>.wrapper\u001B[0;34m(*args, **kwargs)\u001B[0m\n",
       "\u001B[1;32m     46\u001B[0m start \u001B[38;5;241m=\u001B[39m time\u001B[38;5;241m.\u001B[39mperf_counter()\n",
       "\u001B[1;32m     47\u001B[0m \u001B[38;5;28;01mtry\u001B[39;00m:\n",
       "\u001B[0;32m---> 48\u001B[0m     res \u001B[38;5;241m=\u001B[39m \u001B[43mfunc\u001B[49m\u001B[43m(\u001B[49m\u001B[38;5;241;43m*\u001B[39;49m\u001B[43margs\u001B[49m\u001B[43m,\u001B[49m\u001B[43m \u001B[49m\u001B[38;5;241;43m*\u001B[39;49m\u001B[38;5;241;43m*\u001B[39;49m\u001B[43mkwargs\u001B[49m\u001B[43m)\u001B[49m\n",
       "\u001B[1;32m     49\u001B[0m     logger\u001B[38;5;241m.\u001B[39mlog_success(\n",
       "\u001B[1;32m     50\u001B[0m         module_name, class_name, function_name, time\u001B[38;5;241m.\u001B[39mperf_counter() \u001B[38;5;241m-\u001B[39m start, signature\n",
       "\u001B[1;32m     51\u001B[0m     )\n",
       "\u001B[1;32m     52\u001B[0m     \u001B[38;5;28;01mreturn\u001B[39;00m res\n",
       "\n",
       "File \u001B[0;32m/databricks/spark/python/pyspark/sql/readwriter.py:729\u001B[0m, in \u001B[0;36mDataFrameReader.csv\u001B[0;34m(self, path, schema, sep, encoding, quote, escape, comment, header, inferSchema, ignoreLeadingWhiteSpace, ignoreTrailingWhiteSpace, nullValue, nanValue, positiveInf, negativeInf, dateFormat, timestampFormat, maxColumns, maxCharsPerColumn, maxMalformedLogPerPartition, mode, columnNameOfCorruptRecord, multiLine, charToEscapeQuoteEscaping, samplingRatio, enforceSchema, emptyValue, locale, lineSep, pathGlobFilter, recursiveFileLookup, modifiedBefore, modifiedAfter, unescapedQuoteHandling)\u001B[0m\n",
       "\u001B[1;32m    727\u001B[0m \u001B[38;5;28;01mif\u001B[39;00m \u001B[38;5;28mtype\u001B[39m(path) \u001B[38;5;241m==\u001B[39m \u001B[38;5;28mlist\u001B[39m:\n",
       "\u001B[1;32m    728\u001B[0m     \u001B[38;5;28;01massert\u001B[39;00m \u001B[38;5;28mself\u001B[39m\u001B[38;5;241m.\u001B[39m_spark\u001B[38;5;241m.\u001B[39m_sc\u001B[38;5;241m.\u001B[39m_jvm \u001B[38;5;129;01mis\u001B[39;00m \u001B[38;5;129;01mnot\u001B[39;00m \u001B[38;5;28;01mNone\u001B[39;00m\n",
       "\u001B[0;32m--> 729\u001B[0m     \u001B[38;5;28;01mreturn\u001B[39;00m \u001B[38;5;28mself\u001B[39m\u001B[38;5;241m.\u001B[39m_df(\u001B[38;5;28;43mself\u001B[39;49m\u001B[38;5;241;43m.\u001B[39;49m\u001B[43m_jreader\u001B[49m\u001B[38;5;241;43m.\u001B[39;49m\u001B[43mcsv\u001B[49m\u001B[43m(\u001B[49m\u001B[38;5;28;43mself\u001B[39;49m\u001B[38;5;241;43m.\u001B[39;49m\u001B[43m_spark\u001B[49m\u001B[38;5;241;43m.\u001B[39;49m\u001B[43m_sc\u001B[49m\u001B[38;5;241;43m.\u001B[39;49m\u001B[43m_jvm\u001B[49m\u001B[38;5;241;43m.\u001B[39;49m\u001B[43mPythonUtils\u001B[49m\u001B[38;5;241;43m.\u001B[39;49m\u001B[43mtoSeq\u001B[49m\u001B[43m(\u001B[49m\u001B[43mpath\u001B[49m\u001B[43m)\u001B[49m\u001B[43m)\u001B[49m)\n",
       "\u001B[1;32m    730\u001B[0m \u001B[38;5;28;01melif\u001B[39;00m \u001B[38;5;28misinstance\u001B[39m(path, RDD):\n",
       "\u001B[1;32m    732\u001B[0m     \u001B[38;5;28;01mdef\u001B[39;00m \u001B[38;5;21mfunc\u001B[39m(iterator):\n",
       "\n",
       "File \u001B[0;32m/databricks/spark/python/lib/py4j-0.10.9.5-src.zip/py4j/java_gateway.py:1321\u001B[0m, in \u001B[0;36mJavaMember.__call__\u001B[0;34m(self, *args)\u001B[0m\n",
       "\u001B[1;32m   1315\u001B[0m command \u001B[38;5;241m=\u001B[39m proto\u001B[38;5;241m.\u001B[39mCALL_COMMAND_NAME \u001B[38;5;241m+\u001B[39m\\\n",
       "\u001B[1;32m   1316\u001B[0m     \u001B[38;5;28mself\u001B[39m\u001B[38;5;241m.\u001B[39mcommand_header \u001B[38;5;241m+\u001B[39m\\\n",
       "\u001B[1;32m   1317\u001B[0m     args_command \u001B[38;5;241m+\u001B[39m\\\n",
       "\u001B[1;32m   1318\u001B[0m     proto\u001B[38;5;241m.\u001B[39mEND_COMMAND_PART\n",
       "\u001B[1;32m   1320\u001B[0m answer \u001B[38;5;241m=\u001B[39m \u001B[38;5;28mself\u001B[39m\u001B[38;5;241m.\u001B[39mgateway_client\u001B[38;5;241m.\u001B[39msend_command(command)\n",
       "\u001B[0;32m-> 1321\u001B[0m return_value \u001B[38;5;241m=\u001B[39m \u001B[43mget_return_value\u001B[49m\u001B[43m(\u001B[49m\n",
       "\u001B[1;32m   1322\u001B[0m \u001B[43m    \u001B[49m\u001B[43manswer\u001B[49m\u001B[43m,\u001B[49m\u001B[43m \u001B[49m\u001B[38;5;28;43mself\u001B[39;49m\u001B[38;5;241;43m.\u001B[39;49m\u001B[43mgateway_client\u001B[49m\u001B[43m,\u001B[49m\u001B[43m \u001B[49m\u001B[38;5;28;43mself\u001B[39;49m\u001B[38;5;241;43m.\u001B[39;49m\u001B[43mtarget_id\u001B[49m\u001B[43m,\u001B[49m\u001B[43m \u001B[49m\u001B[38;5;28;43mself\u001B[39;49m\u001B[38;5;241;43m.\u001B[39;49m\u001B[43mname\u001B[49m\u001B[43m)\u001B[49m\n",
       "\u001B[1;32m   1324\u001B[0m \u001B[38;5;28;01mfor\u001B[39;00m temp_arg \u001B[38;5;129;01min\u001B[39;00m temp_args:\n",
       "\u001B[1;32m   1325\u001B[0m     temp_arg\u001B[38;5;241m.\u001B[39m_detach()\n",
       "\n",
       "File \u001B[0;32m/databricks/spark/python/pyspark/errors/exceptions.py:234\u001B[0m, in \u001B[0;36mcapture_sql_exception.<locals>.deco\u001B[0;34m(*a, **kw)\u001B[0m\n",
       "\u001B[1;32m    230\u001B[0m converted \u001B[38;5;241m=\u001B[39m convert_exception(e\u001B[38;5;241m.\u001B[39mjava_exception)\n",
       "\u001B[1;32m    231\u001B[0m \u001B[38;5;28;01mif\u001B[39;00m \u001B[38;5;129;01mnot\u001B[39;00m \u001B[38;5;28misinstance\u001B[39m(converted, UnknownException):\n",
       "\u001B[1;32m    232\u001B[0m     \u001B[38;5;66;03m# Hide where the exception came from that shows a non-Pythonic\u001B[39;00m\n",
       "\u001B[1;32m    233\u001B[0m     \u001B[38;5;66;03m# JVM exception message.\u001B[39;00m\n",
       "\u001B[0;32m--> 234\u001B[0m     \u001B[38;5;28;01mraise\u001B[39;00m converted \u001B[38;5;28;01mfrom\u001B[39;00m \u001B[38;5;28mNone\u001B[39m\n",
       "\u001B[1;32m    235\u001B[0m \u001B[38;5;28;01melse\u001B[39;00m:\n",
       "\u001B[1;32m    236\u001B[0m     \u001B[38;5;28;01mraise\u001B[39;00m\n",
       "\n",
       "\u001B[0;31mAnalysisException\u001B[0m: [PATH_NOT_FOUND] Path does not exist: dbfs:/FileStore/tables/ipca.csv."
      ]
     },
     "metadata": {
      "application/vnd.databricks.v1+output": {
       "arguments": {},
       "data": "\u001B[0;31m---------------------------------------------------------------------------\u001B[0m\n\u001B[0;31mAnalysisException\u001B[0m                         Traceback (most recent call last)\nFile \u001B[0;32m<command-3105057663854746>:5\u001B[0m\n\u001B[1;32m      2\u001B[0m path_selic \u001B[38;5;241m=\u001B[39m \u001B[38;5;124m\"\u001B[39m\u001B[38;5;124m/FileStore/tables/selic.csv\u001B[39m\u001B[38;5;124m\"\u001B[39m\n\u001B[1;32m      3\u001B[0m path_ibov \u001B[38;5;241m=\u001B[39m \u001B[38;5;124m\"\u001B[39m\u001B[38;5;124m/FileStore/tables/ibov.csv\u001B[39m\u001B[38;5;124m\"\u001B[39m\n\u001B[0;32m----> 5\u001B[0m df_ipca_bronze \u001B[38;5;241m=\u001B[39m spark\u001B[38;5;241m.\u001B[39mread\u001B[38;5;241m.\u001B[39moption(\u001B[38;5;124m\"\u001B[39m\u001B[38;5;124mheader\u001B[39m\u001B[38;5;124m\"\u001B[39m, \u001B[38;5;28;01mTrue\u001B[39;00m)\u001B[38;5;241m.\u001B[39moption(\u001B[38;5;124m\"\u001B[39m\u001B[38;5;124minferSchema\u001B[39m\u001B[38;5;124m\"\u001B[39m, \u001B[38;5;28;01mTrue\u001B[39;00m)\u001B[38;5;241m.\u001B[39mcsv(path_ipca)\n\u001B[1;32m      6\u001B[0m df_selic_bronze \u001B[38;5;241m=\u001B[39m spark\u001B[38;5;241m.\u001B[39mread\u001B[38;5;241m.\u001B[39moption(\u001B[38;5;124m\"\u001B[39m\u001B[38;5;124mheader\u001B[39m\u001B[38;5;124m\"\u001B[39m, \u001B[38;5;28;01mTrue\u001B[39;00m)\u001B[38;5;241m.\u001B[39moption(\u001B[38;5;124m\"\u001B[39m\u001B[38;5;124minferSchema\u001B[39m\u001B[38;5;124m\"\u001B[39m, \u001B[38;5;28;01mTrue\u001B[39;00m)\u001B[38;5;241m.\u001B[39mcsv(path_selic)\n\u001B[1;32m      7\u001B[0m df_ibov_bronze \u001B[38;5;241m=\u001B[39m spark\u001B[38;5;241m.\u001B[39mread\u001B[38;5;241m.\u001B[39moption(\u001B[38;5;124m\"\u001B[39m\u001B[38;5;124mheader\u001B[39m\u001B[38;5;124m\"\u001B[39m, \u001B[38;5;28;01mTrue\u001B[39;00m)\u001B[38;5;241m.\u001B[39moption(\u001B[38;5;124m\"\u001B[39m\u001B[38;5;124minferSchema\u001B[39m\u001B[38;5;124m\"\u001B[39m, \u001B[38;5;28;01mTrue\u001B[39;00m)\u001B[38;5;241m.\u001B[39mcsv(path_ibov)\n\nFile \u001B[0;32m/databricks/spark/python/pyspark/instrumentation_utils.py:48\u001B[0m, in \u001B[0;36m_wrap_function.<locals>.wrapper\u001B[0;34m(*args, **kwargs)\u001B[0m\n\u001B[1;32m     46\u001B[0m start \u001B[38;5;241m=\u001B[39m time\u001B[38;5;241m.\u001B[39mperf_counter()\n\u001B[1;32m     47\u001B[0m \u001B[38;5;28;01mtry\u001B[39;00m:\n\u001B[0;32m---> 48\u001B[0m     res \u001B[38;5;241m=\u001B[39m \u001B[43mfunc\u001B[49m\u001B[43m(\u001B[49m\u001B[38;5;241;43m*\u001B[39;49m\u001B[43margs\u001B[49m\u001B[43m,\u001B[49m\u001B[43m \u001B[49m\u001B[38;5;241;43m*\u001B[39;49m\u001B[38;5;241;43m*\u001B[39;49m\u001B[43mkwargs\u001B[49m\u001B[43m)\u001B[49m\n\u001B[1;32m     49\u001B[0m     logger\u001B[38;5;241m.\u001B[39mlog_success(\n\u001B[1;32m     50\u001B[0m         module_name, class_name, function_name, time\u001B[38;5;241m.\u001B[39mperf_counter() \u001B[38;5;241m-\u001B[39m start, signature\n\u001B[1;32m     51\u001B[0m     )\n\u001B[1;32m     52\u001B[0m     \u001B[38;5;28;01mreturn\u001B[39;00m res\n\nFile \u001B[0;32m/databricks/spark/python/pyspark/sql/readwriter.py:729\u001B[0m, in \u001B[0;36mDataFrameReader.csv\u001B[0;34m(self, path, schema, sep, encoding, quote, escape, comment, header, inferSchema, ignoreLeadingWhiteSpace, ignoreTrailingWhiteSpace, nullValue, nanValue, positiveInf, negativeInf, dateFormat, timestampFormat, maxColumns, maxCharsPerColumn, maxMalformedLogPerPartition, mode, columnNameOfCorruptRecord, multiLine, charToEscapeQuoteEscaping, samplingRatio, enforceSchema, emptyValue, locale, lineSep, pathGlobFilter, recursiveFileLookup, modifiedBefore, modifiedAfter, unescapedQuoteHandling)\u001B[0m\n\u001B[1;32m    727\u001B[0m \u001B[38;5;28;01mif\u001B[39;00m \u001B[38;5;28mtype\u001B[39m(path) \u001B[38;5;241m==\u001B[39m \u001B[38;5;28mlist\u001B[39m:\n\u001B[1;32m    728\u001B[0m     \u001B[38;5;28;01massert\u001B[39;00m \u001B[38;5;28mself\u001B[39m\u001B[38;5;241m.\u001B[39m_spark\u001B[38;5;241m.\u001B[39m_sc\u001B[38;5;241m.\u001B[39m_jvm \u001B[38;5;129;01mis\u001B[39;00m \u001B[38;5;129;01mnot\u001B[39;00m \u001B[38;5;28;01mNone\u001B[39;00m\n\u001B[0;32m--> 729\u001B[0m     \u001B[38;5;28;01mreturn\u001B[39;00m \u001B[38;5;28mself\u001B[39m\u001B[38;5;241m.\u001B[39m_df(\u001B[38;5;28;43mself\u001B[39;49m\u001B[38;5;241;43m.\u001B[39;49m\u001B[43m_jreader\u001B[49m\u001B[38;5;241;43m.\u001B[39;49m\u001B[43mcsv\u001B[49m\u001B[43m(\u001B[49m\u001B[38;5;28;43mself\u001B[39;49m\u001B[38;5;241;43m.\u001B[39;49m\u001B[43m_spark\u001B[49m\u001B[38;5;241;43m.\u001B[39;49m\u001B[43m_sc\u001B[49m\u001B[38;5;241;43m.\u001B[39;49m\u001B[43m_jvm\u001B[49m\u001B[38;5;241;43m.\u001B[39;49m\u001B[43mPythonUtils\u001B[49m\u001B[38;5;241;43m.\u001B[39;49m\u001B[43mtoSeq\u001B[49m\u001B[43m(\u001B[49m\u001B[43mpath\u001B[49m\u001B[43m)\u001B[49m\u001B[43m)\u001B[49m)\n\u001B[1;32m    730\u001B[0m \u001B[38;5;28;01melif\u001B[39;00m \u001B[38;5;28misinstance\u001B[39m(path, RDD):\n\u001B[1;32m    732\u001B[0m     \u001B[38;5;28;01mdef\u001B[39;00m \u001B[38;5;21mfunc\u001B[39m(iterator):\n\nFile \u001B[0;32m/databricks/spark/python/lib/py4j-0.10.9.5-src.zip/py4j/java_gateway.py:1321\u001B[0m, in \u001B[0;36mJavaMember.__call__\u001B[0;34m(self, *args)\u001B[0m\n\u001B[1;32m   1315\u001B[0m command \u001B[38;5;241m=\u001B[39m proto\u001B[38;5;241m.\u001B[39mCALL_COMMAND_NAME \u001B[38;5;241m+\u001B[39m\\\n\u001B[1;32m   1316\u001B[0m     \u001B[38;5;28mself\u001B[39m\u001B[38;5;241m.\u001B[39mcommand_header \u001B[38;5;241m+\u001B[39m\\\n\u001B[1;32m   1317\u001B[0m     args_command \u001B[38;5;241m+\u001B[39m\\\n\u001B[1;32m   1318\u001B[0m     proto\u001B[38;5;241m.\u001B[39mEND_COMMAND_PART\n\u001B[1;32m   1320\u001B[0m answer \u001B[38;5;241m=\u001B[39m \u001B[38;5;28mself\u001B[39m\u001B[38;5;241m.\u001B[39mgateway_client\u001B[38;5;241m.\u001B[39msend_command(command)\n\u001B[0;32m-> 1321\u001B[0m return_value \u001B[38;5;241m=\u001B[39m \u001B[43mget_return_value\u001B[49m\u001B[43m(\u001B[49m\n\u001B[1;32m   1322\u001B[0m \u001B[43m    \u001B[49m\u001B[43manswer\u001B[49m\u001B[43m,\u001B[49m\u001B[43m \u001B[49m\u001B[38;5;28;43mself\u001B[39;49m\u001B[38;5;241;43m.\u001B[39;49m\u001B[43mgateway_client\u001B[49m\u001B[43m,\u001B[49m\u001B[43m \u001B[49m\u001B[38;5;28;43mself\u001B[39;49m\u001B[38;5;241;43m.\u001B[39;49m\u001B[43mtarget_id\u001B[49m\u001B[43m,\u001B[49m\u001B[43m \u001B[49m\u001B[38;5;28;43mself\u001B[39;49m\u001B[38;5;241;43m.\u001B[39;49m\u001B[43mname\u001B[49m\u001B[43m)\u001B[49m\n\u001B[1;32m   1324\u001B[0m \u001B[38;5;28;01mfor\u001B[39;00m temp_arg \u001B[38;5;129;01min\u001B[39;00m temp_args:\n\u001B[1;32m   1325\u001B[0m     temp_arg\u001B[38;5;241m.\u001B[39m_detach()\n\nFile \u001B[0;32m/databricks/spark/python/pyspark/errors/exceptions.py:234\u001B[0m, in \u001B[0;36mcapture_sql_exception.<locals>.deco\u001B[0;34m(*a, **kw)\u001B[0m\n\u001B[1;32m    230\u001B[0m converted \u001B[38;5;241m=\u001B[39m convert_exception(e\u001B[38;5;241m.\u001B[39mjava_exception)\n\u001B[1;32m    231\u001B[0m \u001B[38;5;28;01mif\u001B[39;00m \u001B[38;5;129;01mnot\u001B[39;00m \u001B[38;5;28misinstance\u001B[39m(converted, UnknownException):\n\u001B[1;32m    232\u001B[0m     \u001B[38;5;66;03m# Hide where the exception came from that shows a non-Pythonic\u001B[39;00m\n\u001B[1;32m    233\u001B[0m     \u001B[38;5;66;03m# JVM exception message.\u001B[39;00m\n\u001B[0;32m--> 234\u001B[0m     \u001B[38;5;28;01mraise\u001B[39;00m converted \u001B[38;5;28;01mfrom\u001B[39;00m \u001B[38;5;28mNone\u001B[39m\n\u001B[1;32m    235\u001B[0m \u001B[38;5;28;01melse\u001B[39;00m:\n\u001B[1;32m    236\u001B[0m     \u001B[38;5;28;01mraise\u001B[39;00m\n\n\u001B[0;31mAnalysisException\u001B[0m: [PATH_NOT_FOUND] Path does not exist: dbfs:/FileStore/tables/ipca.csv.",
       "errorSummary": "<span class='ansi-red-fg'>AnalysisException</span>: [PATH_NOT_FOUND] Path does not exist: dbfs:/FileStore/tables/ipca.csv.",
       "errorTraceType": "ansi",
       "metadata": {},
       "type": "ipynbError"
      }
     },
     "output_type": "display_data"
    }
   ],
   "source": [
    "%python\n",
    "path_ipca = \"/FileStore/tables/ipca.csv\"\n",
    "path_selic = \"/FileStore/tables/selic.csv\"\n",
    "path_ibov = \"/FileStore/tables/ibov.csv\"\n",
    "\n",
    "df_ipca_bronze = spark.read.option(\"header\", True).option(\"inferSchema\", True).csv(path_ipca)\n",
    "df_selic_bronze = spark.read.option(\"header\", True).option(\"inferSchema\", True).csv(path_selic)\n",
    "df_ibov_bronze = spark.read.option(\"header\", True).option(\"inferSchema\", True).csv(path_ibov)\n"
   ]
  },
  {
   "cell_type": "code",
   "execution_count": 0,
   "metadata": {
    "application/vnd.databricks.v1+cell": {
     "cellMetadata": {
      "byteLimit": 2048000,
      "rowLimit": 10000
     },
     "inputWidgets": {},
     "nuid": "daf703c9-6aeb-4bc6-80d7-e36b9e601364",
     "showTitle": false,
     "tableResultSettingsMap": {},
     "title": ""
    }
   },
   "outputs": [
    {
     "output_type": "stream",
     "name": "stdout",
     "output_type": "stream",
     "text": [
      "[FileInfo(path='dbfs:/FileStore/economia_correlacao.csv', name='economia_correlacao.csv', size=5271, modificationTime=1743530389000),\n FileInfo(path='dbfs:/FileStore/gold_economia.csv', name='gold_economia.csv', size=5271, modificationTime=1743650682000),\n FileInfo(path='dbfs:/FileStore/shared_uploads/', name='shared_uploads/', size=0, modificationTime=0),\n FileInfo(path='dbfs:/FileStore/tables/', name='tables/', size=0, modificationTime=0)]"
     ]
    }
   ],
   "source": [
    "%python\n",
    "display(dbutils.fs.ls(\"/FileStore/\"))\n"
   ]
  },
  {
   "cell_type": "code",
   "execution_count": 0,
   "metadata": {
    "application/vnd.databricks.v1+cell": {
     "cellMetadata": {
      "byteLimit": 2048000,
      "rowLimit": 10000
     },
     "inputWidgets": {},
     "nuid": "712ce181-0619-442b-88b1-849c2c1b10a9",
     "showTitle": false,
     "tableResultSettingsMap": {},
     "title": ""
    }
   },
   "outputs": [
    {
     "output_type": "stream",
     "name": "stdout",
     "output_type": "stream",
     "text": [
      "DataFrame[data: date, ipca: double, selic: double, ibov: int]"
     ]
    }
   ],
   "source": [
    "%python\n",
    "# Lendo o arquivo combinado BRONZE\n",
    "path_economia = \"/FileStore/economia_correlacao.csv\"\n",
    "\n",
    "df_economia_bronze = spark.read.option(\"header\", True).option(\"inferSchema\", True).csv(path_economia)\n",
    "\n",
    "# Mostrar os dados lidos\n",
    "display(df_economia_bronze)\n"
   ]
  },
  {
   "cell_type": "code",
   "execution_count": 0,
   "metadata": {
    "application/vnd.databricks.v1+cell": {
     "cellMetadata": {
      "byteLimit": 2048000,
      "rowLimit": 10000
     },
     "inputWidgets": {},
     "nuid": "74e772d4-8f41-4e63-bca8-be61d5f7ac60",
     "showTitle": false,
     "tableResultSettingsMap": {},
     "title": ""
    }
   },
   "outputs": [
    {
     "output_type": "display_data",
     "data": {
      "text/markdown": [
       "## Transformação SILVER\n",
       "\n",
       "Nesta etapa, realizamos a limpeza e padronização dos dados brutos, garantindo qualidade e consistência para as próximas análises."
      ],
      "text/plain": [
       "<IPython.core.display.Markdown object>"
      ]
     },
     "metadata": {},
     "output_type": "display_data"
    }
   ],
   "source": [
    "%python\n",
    "from IPython.display import display, Markdown\n",
    "\n",
    "display(Markdown(\"## Transformação SILVER\\n\\nNesta etapa, realizamos a limpeza e padronização dos dados brutos, garantindo qualidade e consistência para as próximas análises.\"))\n"
   ]
  },
  {
   "cell_type": "code",
   "execution_count": 0,
   "metadata": {
    "application/vnd.databricks.v1+cell": {
     "cellMetadata": {
      "byteLimit": 2048000,
      "rowLimit": 10000
     },
     "inputWidgets": {},
     "nuid": "1637109f-33a7-4f13-a309-8588e8a65c65",
     "showTitle": false,
     "tableResultSettingsMap": {},
     "title": ""
    }
   },
   "outputs": [
    {
     "output_type": "stream",
     "name": "stdout",
     "output_type": "stream",
     "text": [
      "DataFrame[data: date, ipca: double, selic: double, ibov: int]"
     ]
    }
   ],
   "source": [
    "%python\n",
    "# Removendo registros nulos\n",
    "df_economia_silver = df_economia_bronze.dropna()\n",
    "\n",
    "# Conferindo o resultado\n",
    "display(df_economia_silver)\n"
   ]
  },
  {
   "cell_type": "code",
   "execution_count": 0,
   "metadata": {
    "application/vnd.databricks.v1+cell": {
     "cellMetadata": {
      "byteLimit": 2048000,
      "rowLimit": 10000
     },
     "inputWidgets": {},
     "nuid": "1d0dc8a0-8488-44af-b315-b5a13e32bd5f",
     "showTitle": false,
     "tableResultSettingsMap": {},
     "title": ""
    }
   },
   "outputs": [],
   "source": [
    "%python\n",
    "# Salvando o dado como tabela GOLD\n",
    "df_economia_silver.write.format(\"delta\").mode(\"overwrite\").saveAsTable(\"gold_economia\")\n"
   ]
  },
  {
   "cell_type": "code",
   "execution_count": 0,
   "metadata": {
    "application/vnd.databricks.v1+cell": {
     "cellMetadata": {
      "byteLimit": 2048000,
      "rowLimit": 10000
     },
     "inputWidgets": {},
     "nuid": "4e4a3d84-c9d3-4e44-9263-2a3e26215c4f",
     "showTitle": false,
     "tableResultSettingsMap": {},
     "title": ""
    }
   },
   "outputs": [
    {
     "output_type": "display_data",
     "data": {
      "text/markdown": [
       "## Modelagem em Estrela\n",
       "\n",
       "Nesta etapa, criamos uma tabela fato principal e tabelas de dimensão para os indicadores econômicos, utilizando a camada GOLD como fonte de dados."
      ],
      "text/plain": [
       "<IPython.core.display.Markdown object>"
      ]
     },
     "metadata": {},
     "output_type": "display_data"
    }
   ],
   "source": [
    "%python\n",
    "display(Markdown(\"## Modelagem em Estrela\\n\\nNesta etapa, criamos uma tabela fato principal e tabelas de dimensão para os indicadores econômicos, utilizando a camada GOLD como fonte de dados.\"))\n"
   ]
  },
  {
   "cell_type": "code",
   "execution_count": 0,
   "metadata": {
    "application/vnd.databricks.v1+cell": {
     "cellMetadata": {
      "byteLimit": 2048000,
      "rowLimit": 10000
     },
     "inputWidgets": {},
     "nuid": "dd110cc5-f061-4fd5-bf34-97b6520e3610",
     "showTitle": false,
     "tableResultSettingsMap": {},
     "title": ""
    }
   },
   "outputs": [
    {
     "output_type": "display_data",
     "data": {
      "text/plain": [
       "\u001B[0;31m---------------------------------------------------------------------------\u001B[0m\n",
       "\u001B[0;31mAnalysisException\u001B[0m                         Traceback (most recent call last)\n",
       "File \u001B[0;32m<command-3105057663854753>:12\u001B[0m\n",
       "\u001B[1;32m      4\u001B[0m \u001B[38;5;66;03m# Criando Tabela Fato (com todas as colunas)\u001B[39;00m\n",
       "\u001B[1;32m      5\u001B[0m df_fato \u001B[38;5;241m=\u001B[39m df_gold\u001B[38;5;241m.\u001B[39mselect(\n",
       "\u001B[1;32m      6\u001B[0m     \u001B[38;5;124m\"\u001B[39m\u001B[38;5;124mdata\u001B[39m\u001B[38;5;124m\"\u001B[39m,\n",
       "\u001B[1;32m      7\u001B[0m     \u001B[38;5;124m\"\u001B[39m\u001B[38;5;124mipca\u001B[39m\u001B[38;5;124m\"\u001B[39m,\n",
       "\u001B[1;32m      8\u001B[0m     \u001B[38;5;124m\"\u001B[39m\u001B[38;5;124mselic\u001B[39m\u001B[38;5;124m\"\u001B[39m,\n",
       "\u001B[1;32m      9\u001B[0m     \u001B[38;5;124m\"\u001B[39m\u001B[38;5;124mibov\u001B[39m\u001B[38;5;124m\"\u001B[39m\n",
       "\u001B[1;32m     10\u001B[0m )\n",
       "\u001B[0;32m---> 12\u001B[0m df_fato\u001B[38;5;241m.\u001B[39mwrite\u001B[38;5;241m.\u001B[39mformat(\u001B[38;5;124m\"\u001B[39m\u001B[38;5;124mdelta\u001B[39m\u001B[38;5;124m\"\u001B[39m)\u001B[38;5;241m.\u001B[39mmode(\u001B[38;5;124m\"\u001B[39m\u001B[38;5;124moverwrite\u001B[39m\u001B[38;5;124m\"\u001B[39m)\u001B[38;5;241m.\u001B[39msaveAsTable(\u001B[38;5;124m\"\u001B[39m\u001B[38;5;124mfato_economia\u001B[39m\u001B[38;5;124m\"\u001B[39m)\n",
       "\u001B[1;32m     14\u001B[0m \u001B[38;5;66;03m# Criando Tabela Dimensão IPCA\u001B[39;00m\n",
       "\u001B[1;32m     15\u001B[0m df_dim_ipca \u001B[38;5;241m=\u001B[39m df_gold\u001B[38;5;241m.\u001B[39mselect(\n",
       "\u001B[1;32m     16\u001B[0m     \u001B[38;5;124m\"\u001B[39m\u001B[38;5;124mdata\u001B[39m\u001B[38;5;124m\"\u001B[39m,\n",
       "\u001B[1;32m     17\u001B[0m     \u001B[38;5;124m\"\u001B[39m\u001B[38;5;124mipca\u001B[39m\u001B[38;5;124m\"\u001B[39m\n",
       "\u001B[1;32m     18\u001B[0m )\n",
       "\n",
       "File \u001B[0;32m/databricks/spark/python/pyspark/instrumentation_utils.py:48\u001B[0m, in \u001B[0;36m_wrap_function.<locals>.wrapper\u001B[0;34m(*args, **kwargs)\u001B[0m\n",
       "\u001B[1;32m     46\u001B[0m start \u001B[38;5;241m=\u001B[39m time\u001B[38;5;241m.\u001B[39mperf_counter()\n",
       "\u001B[1;32m     47\u001B[0m \u001B[38;5;28;01mtry\u001B[39;00m:\n",
       "\u001B[0;32m---> 48\u001B[0m     res \u001B[38;5;241m=\u001B[39m \u001B[43mfunc\u001B[49m\u001B[43m(\u001B[49m\u001B[38;5;241;43m*\u001B[39;49m\u001B[43margs\u001B[49m\u001B[43m,\u001B[49m\u001B[43m \u001B[49m\u001B[38;5;241;43m*\u001B[39;49m\u001B[38;5;241;43m*\u001B[39;49m\u001B[43mkwargs\u001B[49m\u001B[43m)\u001B[49m\n",
       "\u001B[1;32m     49\u001B[0m     logger\u001B[38;5;241m.\u001B[39mlog_success(\n",
       "\u001B[1;32m     50\u001B[0m         module_name, class_name, function_name, time\u001B[38;5;241m.\u001B[39mperf_counter() \u001B[38;5;241m-\u001B[39m start, signature\n",
       "\u001B[1;32m     51\u001B[0m     )\n",
       "\u001B[1;32m     52\u001B[0m     \u001B[38;5;28;01mreturn\u001B[39;00m res\n",
       "\n",
       "File \u001B[0;32m/databricks/spark/python/pyspark/sql/readwriter.py:1520\u001B[0m, in \u001B[0;36mDataFrameWriter.saveAsTable\u001B[0;34m(self, name, format, mode, partitionBy, **options)\u001B[0m\n",
       "\u001B[1;32m   1518\u001B[0m \u001B[38;5;28;01mif\u001B[39;00m \u001B[38;5;28mformat\u001B[39m \u001B[38;5;129;01mis\u001B[39;00m \u001B[38;5;129;01mnot\u001B[39;00m \u001B[38;5;28;01mNone\u001B[39;00m:\n",
       "\u001B[1;32m   1519\u001B[0m     \u001B[38;5;28mself\u001B[39m\u001B[38;5;241m.\u001B[39mformat(\u001B[38;5;28mformat\u001B[39m)\n",
       "\u001B[0;32m-> 1520\u001B[0m \u001B[38;5;28;43mself\u001B[39;49m\u001B[38;5;241;43m.\u001B[39;49m\u001B[43m_jwrite\u001B[49m\u001B[38;5;241;43m.\u001B[39;49m\u001B[43msaveAsTable\u001B[49m\u001B[43m(\u001B[49m\u001B[43mname\u001B[49m\u001B[43m)\u001B[49m\n",
       "\n",
       "File \u001B[0;32m/databricks/spark/python/lib/py4j-0.10.9.5-src.zip/py4j/java_gateway.py:1321\u001B[0m, in \u001B[0;36mJavaMember.__call__\u001B[0;34m(self, *args)\u001B[0m\n",
       "\u001B[1;32m   1315\u001B[0m command \u001B[38;5;241m=\u001B[39m proto\u001B[38;5;241m.\u001B[39mCALL_COMMAND_NAME \u001B[38;5;241m+\u001B[39m\\\n",
       "\u001B[1;32m   1316\u001B[0m     \u001B[38;5;28mself\u001B[39m\u001B[38;5;241m.\u001B[39mcommand_header \u001B[38;5;241m+\u001B[39m\\\n",
       "\u001B[1;32m   1317\u001B[0m     args_command \u001B[38;5;241m+\u001B[39m\\\n",
       "\u001B[1;32m   1318\u001B[0m     proto\u001B[38;5;241m.\u001B[39mEND_COMMAND_PART\n",
       "\u001B[1;32m   1320\u001B[0m answer \u001B[38;5;241m=\u001B[39m \u001B[38;5;28mself\u001B[39m\u001B[38;5;241m.\u001B[39mgateway_client\u001B[38;5;241m.\u001B[39msend_command(command)\n",
       "\u001B[0;32m-> 1321\u001B[0m return_value \u001B[38;5;241m=\u001B[39m \u001B[43mget_return_value\u001B[49m\u001B[43m(\u001B[49m\n",
       "\u001B[1;32m   1322\u001B[0m \u001B[43m    \u001B[49m\u001B[43manswer\u001B[49m\u001B[43m,\u001B[49m\u001B[43m \u001B[49m\u001B[38;5;28;43mself\u001B[39;49m\u001B[38;5;241;43m.\u001B[39;49m\u001B[43mgateway_client\u001B[49m\u001B[43m,\u001B[49m\u001B[43m \u001B[49m\u001B[38;5;28;43mself\u001B[39;49m\u001B[38;5;241;43m.\u001B[39;49m\u001B[43mtarget_id\u001B[49m\u001B[43m,\u001B[49m\u001B[43m \u001B[49m\u001B[38;5;28;43mself\u001B[39;49m\u001B[38;5;241;43m.\u001B[39;49m\u001B[43mname\u001B[49m\u001B[43m)\u001B[49m\n",
       "\u001B[1;32m   1324\u001B[0m \u001B[38;5;28;01mfor\u001B[39;00m temp_arg \u001B[38;5;129;01min\u001B[39;00m temp_args:\n",
       "\u001B[1;32m   1325\u001B[0m     temp_arg\u001B[38;5;241m.\u001B[39m_detach()\n",
       "\n",
       "File \u001B[0;32m/databricks/spark/python/pyspark/errors/exceptions.py:234\u001B[0m, in \u001B[0;36mcapture_sql_exception.<locals>.deco\u001B[0;34m(*a, **kw)\u001B[0m\n",
       "\u001B[1;32m    230\u001B[0m converted \u001B[38;5;241m=\u001B[39m convert_exception(e\u001B[38;5;241m.\u001B[39mjava_exception)\n",
       "\u001B[1;32m    231\u001B[0m \u001B[38;5;28;01mif\u001B[39;00m \u001B[38;5;129;01mnot\u001B[39;00m \u001B[38;5;28misinstance\u001B[39m(converted, UnknownException):\n",
       "\u001B[1;32m    232\u001B[0m     \u001B[38;5;66;03m# Hide where the exception came from that shows a non-Pythonic\u001B[39;00m\n",
       "\u001B[1;32m    233\u001B[0m     \u001B[38;5;66;03m# JVM exception message.\u001B[39;00m\n",
       "\u001B[0;32m--> 234\u001B[0m     \u001B[38;5;28;01mraise\u001B[39;00m converted \u001B[38;5;28;01mfrom\u001B[39;00m \u001B[38;5;28mNone\u001B[39m\n",
       "\u001B[1;32m    235\u001B[0m \u001B[38;5;28;01melse\u001B[39;00m:\n",
       "\u001B[1;32m    236\u001B[0m     \u001B[38;5;28;01mraise\u001B[39;00m\n",
       "\n",
       "\u001B[0;31mAnalysisException\u001B[0m: A schema mismatch detected when writing to the Delta table (Table ID: b44888f2-5547-4fe2-b1c5-789538319632).\n",
       "To enable schema migration using DataFrameWriter or DataStreamWriter, please set:\n",
       "'.option(\"mergeSchema\", \"true\")'.\n",
       "For other operations, set the session configuration\n",
       "spark.databricks.delta.schema.autoMerge.enabled to \"true\". See the documentation\n",
       "specific to the operation for details.\n",
       "\n",
       "Table schema:\n",
       "root\n",
       "-- data_id: integer (nullable = true)\n",
       "-- ipca_id: integer (nullable = true)\n",
       "-- selic_id: integer (nullable = true)\n",
       "-- ibov_id: integer (nullable = true)\n",
       "\n",
       "\n",
       "Data schema:\n",
       "root\n",
       "-- data: date (nullable = true)\n",
       "-- ipca: double (nullable = true)\n",
       "-- selic: double (nullable = true)\n",
       "-- ibov: integer (nullable = true)\n",
       "\n",
       "         \n",
       "To overwrite your schema or change partitioning, please set:\n",
       "'.option(\"overwriteSchema\", \"true\")'.\n",
       "\n",
       "Note that the schema can't be overwritten when using\n",
       "'replaceWhere'.\n",
       "         "
      ]
     },
     "metadata": {
      "application/vnd.databricks.v1+output": {
       "arguments": {},
       "data": "\u001B[0;31m---------------------------------------------------------------------------\u001B[0m\n\u001B[0;31mAnalysisException\u001B[0m                         Traceback (most recent call last)\nFile \u001B[0;32m<command-3105057663854753>:12\u001B[0m\n\u001B[1;32m      4\u001B[0m \u001B[38;5;66;03m# Criando Tabela Fato (com todas as colunas)\u001B[39;00m\n\u001B[1;32m      5\u001B[0m df_fato \u001B[38;5;241m=\u001B[39m df_gold\u001B[38;5;241m.\u001B[39mselect(\n\u001B[1;32m      6\u001B[0m     \u001B[38;5;124m\"\u001B[39m\u001B[38;5;124mdata\u001B[39m\u001B[38;5;124m\"\u001B[39m,\n\u001B[1;32m      7\u001B[0m     \u001B[38;5;124m\"\u001B[39m\u001B[38;5;124mipca\u001B[39m\u001B[38;5;124m\"\u001B[39m,\n\u001B[1;32m      8\u001B[0m     \u001B[38;5;124m\"\u001B[39m\u001B[38;5;124mselic\u001B[39m\u001B[38;5;124m\"\u001B[39m,\n\u001B[1;32m      9\u001B[0m     \u001B[38;5;124m\"\u001B[39m\u001B[38;5;124mibov\u001B[39m\u001B[38;5;124m\"\u001B[39m\n\u001B[1;32m     10\u001B[0m )\n\u001B[0;32m---> 12\u001B[0m df_fato\u001B[38;5;241m.\u001B[39mwrite\u001B[38;5;241m.\u001B[39mformat(\u001B[38;5;124m\"\u001B[39m\u001B[38;5;124mdelta\u001B[39m\u001B[38;5;124m\"\u001B[39m)\u001B[38;5;241m.\u001B[39mmode(\u001B[38;5;124m\"\u001B[39m\u001B[38;5;124moverwrite\u001B[39m\u001B[38;5;124m\"\u001B[39m)\u001B[38;5;241m.\u001B[39msaveAsTable(\u001B[38;5;124m\"\u001B[39m\u001B[38;5;124mfato_economia\u001B[39m\u001B[38;5;124m\"\u001B[39m)\n\u001B[1;32m     14\u001B[0m \u001B[38;5;66;03m# Criando Tabela Dimensão IPCA\u001B[39;00m\n\u001B[1;32m     15\u001B[0m df_dim_ipca \u001B[38;5;241m=\u001B[39m df_gold\u001B[38;5;241m.\u001B[39mselect(\n\u001B[1;32m     16\u001B[0m     \u001B[38;5;124m\"\u001B[39m\u001B[38;5;124mdata\u001B[39m\u001B[38;5;124m\"\u001B[39m,\n\u001B[1;32m     17\u001B[0m     \u001B[38;5;124m\"\u001B[39m\u001B[38;5;124mipca\u001B[39m\u001B[38;5;124m\"\u001B[39m\n\u001B[1;32m     18\u001B[0m )\n\nFile \u001B[0;32m/databricks/spark/python/pyspark/instrumentation_utils.py:48\u001B[0m, in \u001B[0;36m_wrap_function.<locals>.wrapper\u001B[0;34m(*args, **kwargs)\u001B[0m\n\u001B[1;32m     46\u001B[0m start \u001B[38;5;241m=\u001B[39m time\u001B[38;5;241m.\u001B[39mperf_counter()\n\u001B[1;32m     47\u001B[0m \u001B[38;5;28;01mtry\u001B[39;00m:\n\u001B[0;32m---> 48\u001B[0m     res \u001B[38;5;241m=\u001B[39m \u001B[43mfunc\u001B[49m\u001B[43m(\u001B[49m\u001B[38;5;241;43m*\u001B[39;49m\u001B[43margs\u001B[49m\u001B[43m,\u001B[49m\u001B[43m \u001B[49m\u001B[38;5;241;43m*\u001B[39;49m\u001B[38;5;241;43m*\u001B[39;49m\u001B[43mkwargs\u001B[49m\u001B[43m)\u001B[49m\n\u001B[1;32m     49\u001B[0m     logger\u001B[38;5;241m.\u001B[39mlog_success(\n\u001B[1;32m     50\u001B[0m         module_name, class_name, function_name, time\u001B[38;5;241m.\u001B[39mperf_counter() \u001B[38;5;241m-\u001B[39m start, signature\n\u001B[1;32m     51\u001B[0m     )\n\u001B[1;32m     52\u001B[0m     \u001B[38;5;28;01mreturn\u001B[39;00m res\n\nFile \u001B[0;32m/databricks/spark/python/pyspark/sql/readwriter.py:1520\u001B[0m, in \u001B[0;36mDataFrameWriter.saveAsTable\u001B[0;34m(self, name, format, mode, partitionBy, **options)\u001B[0m\n\u001B[1;32m   1518\u001B[0m \u001B[38;5;28;01mif\u001B[39;00m \u001B[38;5;28mformat\u001B[39m \u001B[38;5;129;01mis\u001B[39;00m \u001B[38;5;129;01mnot\u001B[39;00m \u001B[38;5;28;01mNone\u001B[39;00m:\n\u001B[1;32m   1519\u001B[0m     \u001B[38;5;28mself\u001B[39m\u001B[38;5;241m.\u001B[39mformat(\u001B[38;5;28mformat\u001B[39m)\n\u001B[0;32m-> 1520\u001B[0m \u001B[38;5;28;43mself\u001B[39;49m\u001B[38;5;241;43m.\u001B[39;49m\u001B[43m_jwrite\u001B[49m\u001B[38;5;241;43m.\u001B[39;49m\u001B[43msaveAsTable\u001B[49m\u001B[43m(\u001B[49m\u001B[43mname\u001B[49m\u001B[43m)\u001B[49m\n\nFile \u001B[0;32m/databricks/spark/python/lib/py4j-0.10.9.5-src.zip/py4j/java_gateway.py:1321\u001B[0m, in \u001B[0;36mJavaMember.__call__\u001B[0;34m(self, *args)\u001B[0m\n\u001B[1;32m   1315\u001B[0m command \u001B[38;5;241m=\u001B[39m proto\u001B[38;5;241m.\u001B[39mCALL_COMMAND_NAME \u001B[38;5;241m+\u001B[39m\\\n\u001B[1;32m   1316\u001B[0m     \u001B[38;5;28mself\u001B[39m\u001B[38;5;241m.\u001B[39mcommand_header \u001B[38;5;241m+\u001B[39m\\\n\u001B[1;32m   1317\u001B[0m     args_command \u001B[38;5;241m+\u001B[39m\\\n\u001B[1;32m   1318\u001B[0m     proto\u001B[38;5;241m.\u001B[39mEND_COMMAND_PART\n\u001B[1;32m   1320\u001B[0m answer \u001B[38;5;241m=\u001B[39m \u001B[38;5;28mself\u001B[39m\u001B[38;5;241m.\u001B[39mgateway_client\u001B[38;5;241m.\u001B[39msend_command(command)\n\u001B[0;32m-> 1321\u001B[0m return_value \u001B[38;5;241m=\u001B[39m \u001B[43mget_return_value\u001B[49m\u001B[43m(\u001B[49m\n\u001B[1;32m   1322\u001B[0m \u001B[43m    \u001B[49m\u001B[43manswer\u001B[49m\u001B[43m,\u001B[49m\u001B[43m \u001B[49m\u001B[38;5;28;43mself\u001B[39;49m\u001B[38;5;241;43m.\u001B[39;49m\u001B[43mgateway_client\u001B[49m\u001B[43m,\u001B[49m\u001B[43m \u001B[49m\u001B[38;5;28;43mself\u001B[39;49m\u001B[38;5;241;43m.\u001B[39;49m\u001B[43mtarget_id\u001B[49m\u001B[43m,\u001B[49m\u001B[43m \u001B[49m\u001B[38;5;28;43mself\u001B[39;49m\u001B[38;5;241;43m.\u001B[39;49m\u001B[43mname\u001B[49m\u001B[43m)\u001B[49m\n\u001B[1;32m   1324\u001B[0m \u001B[38;5;28;01mfor\u001B[39;00m temp_arg \u001B[38;5;129;01min\u001B[39;00m temp_args:\n\u001B[1;32m   1325\u001B[0m     temp_arg\u001B[38;5;241m.\u001B[39m_detach()\n\nFile \u001B[0;32m/databricks/spark/python/pyspark/errors/exceptions.py:234\u001B[0m, in \u001B[0;36mcapture_sql_exception.<locals>.deco\u001B[0;34m(*a, **kw)\u001B[0m\n\u001B[1;32m    230\u001B[0m converted \u001B[38;5;241m=\u001B[39m convert_exception(e\u001B[38;5;241m.\u001B[39mjava_exception)\n\u001B[1;32m    231\u001B[0m \u001B[38;5;28;01mif\u001B[39;00m \u001B[38;5;129;01mnot\u001B[39;00m \u001B[38;5;28misinstance\u001B[39m(converted, UnknownException):\n\u001B[1;32m    232\u001B[0m     \u001B[38;5;66;03m# Hide where the exception came from that shows a non-Pythonic\u001B[39;00m\n\u001B[1;32m    233\u001B[0m     \u001B[38;5;66;03m# JVM exception message.\u001B[39;00m\n\u001B[0;32m--> 234\u001B[0m     \u001B[38;5;28;01mraise\u001B[39;00m converted \u001B[38;5;28;01mfrom\u001B[39;00m \u001B[38;5;28mNone\u001B[39m\n\u001B[1;32m    235\u001B[0m \u001B[38;5;28;01melse\u001B[39;00m:\n\u001B[1;32m    236\u001B[0m     \u001B[38;5;28;01mraise\u001B[39;00m\n\n\u001B[0;31mAnalysisException\u001B[0m: A schema mismatch detected when writing to the Delta table (Table ID: b44888f2-5547-4fe2-b1c5-789538319632).\nTo enable schema migration using DataFrameWriter or DataStreamWriter, please set:\n'.option(\"mergeSchema\", \"true\")'.\nFor other operations, set the session configuration\nspark.databricks.delta.schema.autoMerge.enabled to \"true\". See the documentation\nspecific to the operation for details.\n\nTable schema:\nroot\n-- data_id: integer (nullable = true)\n-- ipca_id: integer (nullable = true)\n-- selic_id: integer (nullable = true)\n-- ibov_id: integer (nullable = true)\n\n\nData schema:\nroot\n-- data: date (nullable = true)\n-- ipca: double (nullable = true)\n-- selic: double (nullable = true)\n-- ibov: integer (nullable = true)\n\n         \nTo overwrite your schema or change partitioning, please set:\n'.option(\"overwriteSchema\", \"true\")'.\n\nNote that the schema can't be overwritten when using\n'replaceWhere'.\n         ",
       "errorSummary": "<span class='ansi-red-fg'>AnalysisException</span>: A schema mismatch detected when writing to the Delta table (Table ID: b44888f2-5547-4fe2-b1c5-789538319632).\nTo enable schema migration using DataFrameWriter or DataStreamWriter, please set:\n'.option(\"mergeSchema\", \"true\")'.\nFor other operations, set the session configuration\nspark.databricks.delta.schema.autoMerge.enabled to \"true\". See the documentation\nspecific to the operation for details.\n\nTable schema:\nroot\n-- data_id: integer (nullable = true)\n-- ipca_id: integer (nullable = true)\n-- selic_id: integer (nullable = true)\n-- ibov_id: integer (nullable = true)\n\n\nData schema:\nroot\n-- data: date (nullable = true)\n-- ipca: double (nullable = true)\n-- selic: double (nullable = true)\n-- ibov: integer (nullable = true)\n\n         \nTo overwrite your schema or change partitioning, please set:\n'.option(\"overwriteSchema\", \"true\")'.\n\nNote that the schema can't be overwritten when using\n'replaceWhere'.\n         ",
       "errorTraceType": "ansi",
       "metadata": {},
       "type": "ipynbError"
      }
     },
     "output_type": "display_data"
    }
   ],
   "source": [
    "%python\n",
    "# Lendo a tabela GOLD\n",
    "df_gold = spark.table(\"gold_economia\")\n",
    "\n",
    "# Criando Tabela Fato (com todas as colunas)\n",
    "df_fato = df_gold.select(\n",
    "    \"data\",\n",
    "    \"ipca\",\n",
    "    \"selic\",\n",
    "    \"ibov\"\n",
    ")\n",
    "\n",
    "df_fato.write.format(\"delta\").mode(\"overwrite\").saveAsTable(\"fato_economia\")\n",
    "\n",
    "# Criando Tabela Dimensão IPCA\n",
    "df_dim_ipca = df_gold.select(\n",
    "    \"data\",\n",
    "    \"ipca\"\n",
    ")\n",
    "\n",
    "df_dim_ipca.write.format(\"delta\").mode(\"overwrite\").saveAsTable(\"dim_ipca\")\n",
    "\n",
    "# Criando Tabela Dimensão SELIC\n",
    "df_dim_selic = df_gold.select(\n",
    "    \"data\",\n",
    "    \"selic\"\n",
    ")\n",
    "\n",
    "df_dim_selic.write.format(\"delta\").mode(\"overwrite\").saveAsTable(\"dim_selic\")\n",
    "\n",
    "# Criando Tabela Dimensão IBOV\n",
    "df_dim_ibov = df_gold.select(\n",
    "    \"data\",\n",
    "    \"ibov\"\n",
    ")\n",
    "\n",
    "df_dim_ibov.write.format(\"delta\").mode(\"overwrite\").saveAsTable(\"dim_ibov\")\n"
   ]
  },
  {
   "cell_type": "code",
   "execution_count": 0,
   "metadata": {
    "application/vnd.databricks.v1+cell": {
     "cellMetadata": {
      "byteLimit": 2048000,
      "rowLimit": 10000
     },
     "inputWidgets": {},
     "nuid": "261d7d15-ca0e-43a3-ad43-d74e036d9e38",
     "showTitle": false,
     "tableResultSettingsMap": {},
     "title": ""
    }
   },
   "outputs": [
    {
     "output_type": "stream",
     "name": "stdout",
     "output_type": "stream",
     "text": [
      "Out[12]: DataFrame[]"
     ]
    }
   ],
   "source": [
    "%python\n",
    "spark.sql(\"DROP TABLE IF EXISTS fato_economia\")\n",
    "spark.sql(\"DROP TABLE IF EXISTS dim_ipca\")\n",
    "spark.sql(\"DROP TABLE IF EXISTS dim_selic\")\n",
    "spark.sql(\"DROP TABLE IF EXISTS dim_ibov\")\n"
   ]
  },
  {
   "cell_type": "code",
   "execution_count": 0,
   "metadata": {
    "application/vnd.databricks.v1+cell": {
     "cellMetadata": {
      "byteLimit": 2048000,
      "rowLimit": 10000
     },
     "inputWidgets": {},
     "nuid": "71a03a58-89be-41cd-8d42-5052913c283e",
     "showTitle": false,
     "tableResultSettingsMap": {},
     "title": ""
    }
   },
   "outputs": [
    {
     "output_type": "display_data",
     "data": {
      "text/plain": [
       "\u001B[0;31m---------------------------------------------------------------------------\u001B[0m\n",
       "\u001B[0;31mAnalysisException\u001B[0m                         Traceback (most recent call last)\n",
       "File \u001B[0;32m<command-3105057663854755>:11\u001B[0m\n",
       "\u001B[1;32m      4\u001B[0m \u001B[38;5;66;03m# Criando Tabela Fato\u001B[39;00m\n",
       "\u001B[1;32m      5\u001B[0m df_fato \u001B[38;5;241m=\u001B[39m df_gold\u001B[38;5;241m.\u001B[39mselect(\n",
       "\u001B[1;32m      6\u001B[0m     \u001B[38;5;124m\"\u001B[39m\u001B[38;5;124mdata\u001B[39m\u001B[38;5;124m\"\u001B[39m,\n",
       "\u001B[1;32m      7\u001B[0m     \u001B[38;5;124m\"\u001B[39m\u001B[38;5;124mipca\u001B[39m\u001B[38;5;124m\"\u001B[39m,\n",
       "\u001B[1;32m      8\u001B[0m     \u001B[38;5;124m\"\u001B[39m\u001B[38;5;124mselic\u001B[39m\u001B[38;5;124m\"\u001B[39m,\n",
       "\u001B[1;32m      9\u001B[0m     \u001B[38;5;124m\"\u001B[39m\u001B[38;5;124mibov\u001B[39m\u001B[38;5;124m\"\u001B[39m\n",
       "\u001B[1;32m     10\u001B[0m )\n",
       "\u001B[0;32m---> 11\u001B[0m df_fato\u001B[38;5;241m.\u001B[39mwrite\u001B[38;5;241m.\u001B[39mformat(\u001B[38;5;124m\"\u001B[39m\u001B[38;5;124mdelta\u001B[39m\u001B[38;5;124m\"\u001B[39m)\u001B[38;5;241m.\u001B[39mmode(\u001B[38;5;124m\"\u001B[39m\u001B[38;5;124moverwrite\u001B[39m\u001B[38;5;124m\"\u001B[39m)\u001B[38;5;241m.\u001B[39msaveAsTable(\u001B[38;5;124m\"\u001B[39m\u001B[38;5;124mfato_economia\u001B[39m\u001B[38;5;124m\"\u001B[39m)\n",
       "\u001B[1;32m     13\u001B[0m \u001B[38;5;66;03m# Criando Tabela Dimensão IPCA\u001B[39;00m\n",
       "\u001B[1;32m     14\u001B[0m df_dim_ipca \u001B[38;5;241m=\u001B[39m df_gold\u001B[38;5;241m.\u001B[39mselect(\n",
       "\u001B[1;32m     15\u001B[0m     \u001B[38;5;124m\"\u001B[39m\u001B[38;5;124mdata\u001B[39m\u001B[38;5;124m\"\u001B[39m,\n",
       "\u001B[1;32m     16\u001B[0m     \u001B[38;5;124m\"\u001B[39m\u001B[38;5;124mipca\u001B[39m\u001B[38;5;124m\"\u001B[39m\n",
       "\u001B[1;32m     17\u001B[0m )\n",
       "\n",
       "File \u001B[0;32m/databricks/spark/python/pyspark/instrumentation_utils.py:48\u001B[0m, in \u001B[0;36m_wrap_function.<locals>.wrapper\u001B[0;34m(*args, **kwargs)\u001B[0m\n",
       "\u001B[1;32m     46\u001B[0m start \u001B[38;5;241m=\u001B[39m time\u001B[38;5;241m.\u001B[39mperf_counter()\n",
       "\u001B[1;32m     47\u001B[0m \u001B[38;5;28;01mtry\u001B[39;00m:\n",
       "\u001B[0;32m---> 48\u001B[0m     res \u001B[38;5;241m=\u001B[39m \u001B[43mfunc\u001B[49m\u001B[43m(\u001B[49m\u001B[38;5;241;43m*\u001B[39;49m\u001B[43margs\u001B[49m\u001B[43m,\u001B[49m\u001B[43m \u001B[49m\u001B[38;5;241;43m*\u001B[39;49m\u001B[38;5;241;43m*\u001B[39;49m\u001B[43mkwargs\u001B[49m\u001B[43m)\u001B[49m\n",
       "\u001B[1;32m     49\u001B[0m     logger\u001B[38;5;241m.\u001B[39mlog_success(\n",
       "\u001B[1;32m     50\u001B[0m         module_name, class_name, function_name, time\u001B[38;5;241m.\u001B[39mperf_counter() \u001B[38;5;241m-\u001B[39m start, signature\n",
       "\u001B[1;32m     51\u001B[0m     )\n",
       "\u001B[1;32m     52\u001B[0m     \u001B[38;5;28;01mreturn\u001B[39;00m res\n",
       "\n",
       "File \u001B[0;32m/databricks/spark/python/pyspark/sql/readwriter.py:1520\u001B[0m, in \u001B[0;36mDataFrameWriter.saveAsTable\u001B[0;34m(self, name, format, mode, partitionBy, **options)\u001B[0m\n",
       "\u001B[1;32m   1518\u001B[0m \u001B[38;5;28;01mif\u001B[39;00m \u001B[38;5;28mformat\u001B[39m \u001B[38;5;129;01mis\u001B[39;00m \u001B[38;5;129;01mnot\u001B[39;00m \u001B[38;5;28;01mNone\u001B[39;00m:\n",
       "\u001B[1;32m   1519\u001B[0m     \u001B[38;5;28mself\u001B[39m\u001B[38;5;241m.\u001B[39mformat(\u001B[38;5;28mformat\u001B[39m)\n",
       "\u001B[0;32m-> 1520\u001B[0m \u001B[38;5;28;43mself\u001B[39;49m\u001B[38;5;241;43m.\u001B[39;49m\u001B[43m_jwrite\u001B[49m\u001B[38;5;241;43m.\u001B[39;49m\u001B[43msaveAsTable\u001B[49m\u001B[43m(\u001B[49m\u001B[43mname\u001B[49m\u001B[43m)\u001B[49m\n",
       "\n",
       "File \u001B[0;32m/databricks/spark/python/lib/py4j-0.10.9.5-src.zip/py4j/java_gateway.py:1321\u001B[0m, in \u001B[0;36mJavaMember.__call__\u001B[0;34m(self, *args)\u001B[0m\n",
       "\u001B[1;32m   1315\u001B[0m command \u001B[38;5;241m=\u001B[39m proto\u001B[38;5;241m.\u001B[39mCALL_COMMAND_NAME \u001B[38;5;241m+\u001B[39m\\\n",
       "\u001B[1;32m   1316\u001B[0m     \u001B[38;5;28mself\u001B[39m\u001B[38;5;241m.\u001B[39mcommand_header \u001B[38;5;241m+\u001B[39m\\\n",
       "\u001B[1;32m   1317\u001B[0m     args_command \u001B[38;5;241m+\u001B[39m\\\n",
       "\u001B[1;32m   1318\u001B[0m     proto\u001B[38;5;241m.\u001B[39mEND_COMMAND_PART\n",
       "\u001B[1;32m   1320\u001B[0m answer \u001B[38;5;241m=\u001B[39m \u001B[38;5;28mself\u001B[39m\u001B[38;5;241m.\u001B[39mgateway_client\u001B[38;5;241m.\u001B[39msend_command(command)\n",
       "\u001B[0;32m-> 1321\u001B[0m return_value \u001B[38;5;241m=\u001B[39m \u001B[43mget_return_value\u001B[49m\u001B[43m(\u001B[49m\n",
       "\u001B[1;32m   1322\u001B[0m \u001B[43m    \u001B[49m\u001B[43manswer\u001B[49m\u001B[43m,\u001B[49m\u001B[43m \u001B[49m\u001B[38;5;28;43mself\u001B[39;49m\u001B[38;5;241;43m.\u001B[39;49m\u001B[43mgateway_client\u001B[49m\u001B[43m,\u001B[49m\u001B[43m \u001B[49m\u001B[38;5;28;43mself\u001B[39;49m\u001B[38;5;241;43m.\u001B[39;49m\u001B[43mtarget_id\u001B[49m\u001B[43m,\u001B[49m\u001B[43m \u001B[49m\u001B[38;5;28;43mself\u001B[39;49m\u001B[38;5;241;43m.\u001B[39;49m\u001B[43mname\u001B[49m\u001B[43m)\u001B[49m\n",
       "\u001B[1;32m   1324\u001B[0m \u001B[38;5;28;01mfor\u001B[39;00m temp_arg \u001B[38;5;129;01min\u001B[39;00m temp_args:\n",
       "\u001B[1;32m   1325\u001B[0m     temp_arg\u001B[38;5;241m.\u001B[39m_detach()\n",
       "\n",
       "File \u001B[0;32m/databricks/spark/python/pyspark/errors/exceptions.py:234\u001B[0m, in \u001B[0;36mcapture_sql_exception.<locals>.deco\u001B[0;34m(*a, **kw)\u001B[0m\n",
       "\u001B[1;32m    230\u001B[0m converted \u001B[38;5;241m=\u001B[39m convert_exception(e\u001B[38;5;241m.\u001B[39mjava_exception)\n",
       "\u001B[1;32m    231\u001B[0m \u001B[38;5;28;01mif\u001B[39;00m \u001B[38;5;129;01mnot\u001B[39;00m \u001B[38;5;28misinstance\u001B[39m(converted, UnknownException):\n",
       "\u001B[1;32m    232\u001B[0m     \u001B[38;5;66;03m# Hide where the exception came from that shows a non-Pythonic\u001B[39;00m\n",
       "\u001B[1;32m    233\u001B[0m     \u001B[38;5;66;03m# JVM exception message.\u001B[39;00m\n",
       "\u001B[0;32m--> 234\u001B[0m     \u001B[38;5;28;01mraise\u001B[39;00m converted \u001B[38;5;28;01mfrom\u001B[39;00m \u001B[38;5;28mNone\u001B[39m\n",
       "\u001B[1;32m    235\u001B[0m \u001B[38;5;28;01melse\u001B[39;00m:\n",
       "\u001B[1;32m    236\u001B[0m     \u001B[38;5;28;01mraise\u001B[39;00m\n",
       "\n",
       "\u001B[0;31mAnalysisException\u001B[0m: A schema mismatch detected when writing to the Delta table (Table ID: b44888f2-5547-4fe2-b1c5-789538319632).\n",
       "To enable schema migration using DataFrameWriter or DataStreamWriter, please set:\n",
       "'.option(\"mergeSchema\", \"true\")'.\n",
       "For other operations, set the session configuration\n",
       "spark.databricks.delta.schema.autoMerge.enabled to \"true\". See the documentation\n",
       "specific to the operation for details.\n",
       "\n",
       "Table schema:\n",
       "root\n",
       "-- data_id: integer (nullable = true)\n",
       "-- ipca_id: integer (nullable = true)\n",
       "-- selic_id: integer (nullable = true)\n",
       "-- ibov_id: integer (nullable = true)\n",
       "\n",
       "\n",
       "Data schema:\n",
       "root\n",
       "-- data: date (nullable = true)\n",
       "-- ipca: double (nullable = true)\n",
       "-- selic: double (nullable = true)\n",
       "-- ibov: integer (nullable = true)\n",
       "\n",
       "         \n",
       "To overwrite your schema or change partitioning, please set:\n",
       "'.option(\"overwriteSchema\", \"true\")'.\n",
       "\n",
       "Note that the schema can't be overwritten when using\n",
       "'replaceWhere'.\n",
       "         "
      ]
     },
     "metadata": {
      "application/vnd.databricks.v1+output": {
       "arguments": {},
       "data": "\u001B[0;31m---------------------------------------------------------------------------\u001B[0m\n\u001B[0;31mAnalysisException\u001B[0m                         Traceback (most recent call last)\nFile \u001B[0;32m<command-3105057663854755>:11\u001B[0m\n\u001B[1;32m      4\u001B[0m \u001B[38;5;66;03m# Criando Tabela Fato\u001B[39;00m\n\u001B[1;32m      5\u001B[0m df_fato \u001B[38;5;241m=\u001B[39m df_gold\u001B[38;5;241m.\u001B[39mselect(\n\u001B[1;32m      6\u001B[0m     \u001B[38;5;124m\"\u001B[39m\u001B[38;5;124mdata\u001B[39m\u001B[38;5;124m\"\u001B[39m,\n\u001B[1;32m      7\u001B[0m     \u001B[38;5;124m\"\u001B[39m\u001B[38;5;124mipca\u001B[39m\u001B[38;5;124m\"\u001B[39m,\n\u001B[1;32m      8\u001B[0m     \u001B[38;5;124m\"\u001B[39m\u001B[38;5;124mselic\u001B[39m\u001B[38;5;124m\"\u001B[39m,\n\u001B[1;32m      9\u001B[0m     \u001B[38;5;124m\"\u001B[39m\u001B[38;5;124mibov\u001B[39m\u001B[38;5;124m\"\u001B[39m\n\u001B[1;32m     10\u001B[0m )\n\u001B[0;32m---> 11\u001B[0m df_fato\u001B[38;5;241m.\u001B[39mwrite\u001B[38;5;241m.\u001B[39mformat(\u001B[38;5;124m\"\u001B[39m\u001B[38;5;124mdelta\u001B[39m\u001B[38;5;124m\"\u001B[39m)\u001B[38;5;241m.\u001B[39mmode(\u001B[38;5;124m\"\u001B[39m\u001B[38;5;124moverwrite\u001B[39m\u001B[38;5;124m\"\u001B[39m)\u001B[38;5;241m.\u001B[39msaveAsTable(\u001B[38;5;124m\"\u001B[39m\u001B[38;5;124mfato_economia\u001B[39m\u001B[38;5;124m\"\u001B[39m)\n\u001B[1;32m     13\u001B[0m \u001B[38;5;66;03m# Criando Tabela Dimensão IPCA\u001B[39;00m\n\u001B[1;32m     14\u001B[0m df_dim_ipca \u001B[38;5;241m=\u001B[39m df_gold\u001B[38;5;241m.\u001B[39mselect(\n\u001B[1;32m     15\u001B[0m     \u001B[38;5;124m\"\u001B[39m\u001B[38;5;124mdata\u001B[39m\u001B[38;5;124m\"\u001B[39m,\n\u001B[1;32m     16\u001B[0m     \u001B[38;5;124m\"\u001B[39m\u001B[38;5;124mipca\u001B[39m\u001B[38;5;124m\"\u001B[39m\n\u001B[1;32m     17\u001B[0m )\n\nFile \u001B[0;32m/databricks/spark/python/pyspark/instrumentation_utils.py:48\u001B[0m, in \u001B[0;36m_wrap_function.<locals>.wrapper\u001B[0;34m(*args, **kwargs)\u001B[0m\n\u001B[1;32m     46\u001B[0m start \u001B[38;5;241m=\u001B[39m time\u001B[38;5;241m.\u001B[39mperf_counter()\n\u001B[1;32m     47\u001B[0m \u001B[38;5;28;01mtry\u001B[39;00m:\n\u001B[0;32m---> 48\u001B[0m     res \u001B[38;5;241m=\u001B[39m \u001B[43mfunc\u001B[49m\u001B[43m(\u001B[49m\u001B[38;5;241;43m*\u001B[39;49m\u001B[43margs\u001B[49m\u001B[43m,\u001B[49m\u001B[43m \u001B[49m\u001B[38;5;241;43m*\u001B[39;49m\u001B[38;5;241;43m*\u001B[39;49m\u001B[43mkwargs\u001B[49m\u001B[43m)\u001B[49m\n\u001B[1;32m     49\u001B[0m     logger\u001B[38;5;241m.\u001B[39mlog_success(\n\u001B[1;32m     50\u001B[0m         module_name, class_name, function_name, time\u001B[38;5;241m.\u001B[39mperf_counter() \u001B[38;5;241m-\u001B[39m start, signature\n\u001B[1;32m     51\u001B[0m     )\n\u001B[1;32m     52\u001B[0m     \u001B[38;5;28;01mreturn\u001B[39;00m res\n\nFile \u001B[0;32m/databricks/spark/python/pyspark/sql/readwriter.py:1520\u001B[0m, in \u001B[0;36mDataFrameWriter.saveAsTable\u001B[0;34m(self, name, format, mode, partitionBy, **options)\u001B[0m\n\u001B[1;32m   1518\u001B[0m \u001B[38;5;28;01mif\u001B[39;00m \u001B[38;5;28mformat\u001B[39m \u001B[38;5;129;01mis\u001B[39;00m \u001B[38;5;129;01mnot\u001B[39;00m \u001B[38;5;28;01mNone\u001B[39;00m:\n\u001B[1;32m   1519\u001B[0m     \u001B[38;5;28mself\u001B[39m\u001B[38;5;241m.\u001B[39mformat(\u001B[38;5;28mformat\u001B[39m)\n\u001B[0;32m-> 1520\u001B[0m \u001B[38;5;28;43mself\u001B[39;49m\u001B[38;5;241;43m.\u001B[39;49m\u001B[43m_jwrite\u001B[49m\u001B[38;5;241;43m.\u001B[39;49m\u001B[43msaveAsTable\u001B[49m\u001B[43m(\u001B[49m\u001B[43mname\u001B[49m\u001B[43m)\u001B[49m\n\nFile \u001B[0;32m/databricks/spark/python/lib/py4j-0.10.9.5-src.zip/py4j/java_gateway.py:1321\u001B[0m, in \u001B[0;36mJavaMember.__call__\u001B[0;34m(self, *args)\u001B[0m\n\u001B[1;32m   1315\u001B[0m command \u001B[38;5;241m=\u001B[39m proto\u001B[38;5;241m.\u001B[39mCALL_COMMAND_NAME \u001B[38;5;241m+\u001B[39m\\\n\u001B[1;32m   1316\u001B[0m     \u001B[38;5;28mself\u001B[39m\u001B[38;5;241m.\u001B[39mcommand_header \u001B[38;5;241m+\u001B[39m\\\n\u001B[1;32m   1317\u001B[0m     args_command \u001B[38;5;241m+\u001B[39m\\\n\u001B[1;32m   1318\u001B[0m     proto\u001B[38;5;241m.\u001B[39mEND_COMMAND_PART\n\u001B[1;32m   1320\u001B[0m answer \u001B[38;5;241m=\u001B[39m \u001B[38;5;28mself\u001B[39m\u001B[38;5;241m.\u001B[39mgateway_client\u001B[38;5;241m.\u001B[39msend_command(command)\n\u001B[0;32m-> 1321\u001B[0m return_value \u001B[38;5;241m=\u001B[39m \u001B[43mget_return_value\u001B[49m\u001B[43m(\u001B[49m\n\u001B[1;32m   1322\u001B[0m \u001B[43m    \u001B[49m\u001B[43manswer\u001B[49m\u001B[43m,\u001B[49m\u001B[43m \u001B[49m\u001B[38;5;28;43mself\u001B[39;49m\u001B[38;5;241;43m.\u001B[39;49m\u001B[43mgateway_client\u001B[49m\u001B[43m,\u001B[49m\u001B[43m \u001B[49m\u001B[38;5;28;43mself\u001B[39;49m\u001B[38;5;241;43m.\u001B[39;49m\u001B[43mtarget_id\u001B[49m\u001B[43m,\u001B[49m\u001B[43m \u001B[49m\u001B[38;5;28;43mself\u001B[39;49m\u001B[38;5;241;43m.\u001B[39;49m\u001B[43mname\u001B[49m\u001B[43m)\u001B[49m\n\u001B[1;32m   1324\u001B[0m \u001B[38;5;28;01mfor\u001B[39;00m temp_arg \u001B[38;5;129;01min\u001B[39;00m temp_args:\n\u001B[1;32m   1325\u001B[0m     temp_arg\u001B[38;5;241m.\u001B[39m_detach()\n\nFile \u001B[0;32m/databricks/spark/python/pyspark/errors/exceptions.py:234\u001B[0m, in \u001B[0;36mcapture_sql_exception.<locals>.deco\u001B[0;34m(*a, **kw)\u001B[0m\n\u001B[1;32m    230\u001B[0m converted \u001B[38;5;241m=\u001B[39m convert_exception(e\u001B[38;5;241m.\u001B[39mjava_exception)\n\u001B[1;32m    231\u001B[0m \u001B[38;5;28;01mif\u001B[39;00m \u001B[38;5;129;01mnot\u001B[39;00m \u001B[38;5;28misinstance\u001B[39m(converted, UnknownException):\n\u001B[1;32m    232\u001B[0m     \u001B[38;5;66;03m# Hide where the exception came from that shows a non-Pythonic\u001B[39;00m\n\u001B[1;32m    233\u001B[0m     \u001B[38;5;66;03m# JVM exception message.\u001B[39;00m\n\u001B[0;32m--> 234\u001B[0m     \u001B[38;5;28;01mraise\u001B[39;00m converted \u001B[38;5;28;01mfrom\u001B[39;00m \u001B[38;5;28mNone\u001B[39m\n\u001B[1;32m    235\u001B[0m \u001B[38;5;28;01melse\u001B[39;00m:\n\u001B[1;32m    236\u001B[0m     \u001B[38;5;28;01mraise\u001B[39;00m\n\n\u001B[0;31mAnalysisException\u001B[0m: A schema mismatch detected when writing to the Delta table (Table ID: b44888f2-5547-4fe2-b1c5-789538319632).\nTo enable schema migration using DataFrameWriter or DataStreamWriter, please set:\n'.option(\"mergeSchema\", \"true\")'.\nFor other operations, set the session configuration\nspark.databricks.delta.schema.autoMerge.enabled to \"true\". See the documentation\nspecific to the operation for details.\n\nTable schema:\nroot\n-- data_id: integer (nullable = true)\n-- ipca_id: integer (nullable = true)\n-- selic_id: integer (nullable = true)\n-- ibov_id: integer (nullable = true)\n\n\nData schema:\nroot\n-- data: date (nullable = true)\n-- ipca: double (nullable = true)\n-- selic: double (nullable = true)\n-- ibov: integer (nullable = true)\n\n         \nTo overwrite your schema or change partitioning, please set:\n'.option(\"overwriteSchema\", \"true\")'.\n\nNote that the schema can't be overwritten when using\n'replaceWhere'.\n         ",
       "errorSummary": "<span class='ansi-red-fg'>AnalysisException</span>: A schema mismatch detected when writing to the Delta table (Table ID: b44888f2-5547-4fe2-b1c5-789538319632).\nTo enable schema migration using DataFrameWriter or DataStreamWriter, please set:\n'.option(\"mergeSchema\", \"true\")'.\nFor other operations, set the session configuration\nspark.databricks.delta.schema.autoMerge.enabled to \"true\". See the documentation\nspecific to the operation for details.\n\nTable schema:\nroot\n-- data_id: integer (nullable = true)\n-- ipca_id: integer (nullable = true)\n-- selic_id: integer (nullable = true)\n-- ibov_id: integer (nullable = true)\n\n\nData schema:\nroot\n-- data: date (nullable = true)\n-- ipca: double (nullable = true)\n-- selic: double (nullable = true)\n-- ibov: integer (nullable = true)\n\n         \nTo overwrite your schema or change partitioning, please set:\n'.option(\"overwriteSchema\", \"true\")'.\n\nNote that the schema can't be overwritten when using\n'replaceWhere'.\n         ",
       "errorTraceType": "ansi",
       "metadata": {},
       "type": "ipynbError"
      }
     },
     "output_type": "display_data"
    }
   ],
   "source": [
    "%python\n",
    "# Lendo a tabela GOLD\n",
    "df_gold = spark.table(\"gold_economia\")\n",
    "\n",
    "# Criando Tabela Fato\n",
    "df_fato = df_gold.select(\n",
    "    \"data\",\n",
    "    \"ipca\",\n",
    "    \"selic\",\n",
    "    \"ibov\"\n",
    ")\n",
    "df_fato.write.format(\"delta\").mode(\"overwrite\").saveAsTable(\"fato_economia\")\n",
    "\n",
    "# Criando Tabela Dimensão IPCA\n",
    "df_dim_ipca = df_gold.select(\n",
    "    \"data\",\n",
    "    \"ipca\"\n",
    ")\n",
    "df_dim_ipca.write.format(\"delta\").mode(\"overwrite\").saveAsTable(\"dim_ipca\")\n",
    "\n",
    "# Criando Tabela Dimensão SELIC\n",
    "df_dim_selic = df_gold.select(\n",
    "    \"data\",\n",
    "    \"selic\"\n",
    ")\n",
    "df_dim_selic.write.format(\"delta\").mode(\"overwrite\").saveAsTable(\"dim_selic\")\n",
    "\n",
    "# Criando Tabela Dimensão IBOV\n",
    "df_dim_ibov = df_gold.select(\n",
    "    \"data\",\n",
    "    \"ibov\"\n",
    ")\n",
    "df_dim_ibov.write.format(\"delta\").mode(\"overwrite\").saveAsTable(\"dim_ibov\")\n"
   ]
  },
  {
   "cell_type": "code",
   "execution_count": 0,
   "metadata": {
    "application/vnd.databricks.v1+cell": {
     "cellMetadata": {
      "byteLimit": 2048000,
      "rowLimit": 10000
     },
     "inputWidgets": {},
     "nuid": "73feafd7-d0e0-4f79-8279-ba8cab37121d",
     "showTitle": false,
     "tableResultSettingsMap": {},
     "title": ""
    }
   },
   "outputs": [],
   "source": [
    "%python\n",
    "# Lendo a tabela GOLD\n",
    "df_gold = spark.table(\"gold_economia\")\n",
    "\n",
    "# Criando Tabela Fato\n",
    "df_fato = df_gold.select(\n",
    "    \"data\",\n",
    "    \"ipca\",\n",
    "    \"selic\",\n",
    "    \"ibov\"\n",
    ")\n",
    "df_fato.write.option(\"mergeSchema\", \"true\").format(\"delta\").mode(\"overwrite\").saveAsTable(\"fato_economia\")\n",
    "\n",
    "# Criando Tabela Dimensão IPCA\n",
    "df_dim_ipca = df_gold.select(\n",
    "    \"data\",\n",
    "    \"ipca\"\n",
    ")\n",
    "df_dim_ipca.write.option(\"mergeSchema\", \"true\").format(\"delta\").mode(\"overwrite\").saveAsTable(\"dim_ipca\")\n",
    "\n",
    "# Criando Tabela Dimensão SELIC\n",
    "df_dim_selic = df_gold.select(\n",
    "    \"data\",\n",
    "    \"selic\"\n",
    ")\n",
    "df_dim_selic.write.option(\"mergeSchema\", \"true\").format(\"delta\").mode(\"overwrite\").saveAsTable(\"dim_selic\")\n",
    "\n",
    "# Criando Tabela Dimensão IBOV\n",
    "df_dim_ibov = df_gold.select(\n",
    "    \"data\",\n",
    "    \"ibov\"\n",
    ")\n",
    "df_dim_ibov.write.option(\"mergeSchema\", \"true\").format(\"delta\").mode(\"overwrite\").saveAsTable(\"dim_ibov\")\n"
   ]
  },
  {
   "cell_type": "code",
   "execution_count": 0,
   "metadata": {
    "application/vnd.databricks.v1+cell": {
     "cellMetadata": {
      "byteLimit": 2048000,
      "rowLimit": 10000
     },
     "inputWidgets": {},
     "nuid": "cf8bbdb6-0546-4ae1-9770-a53c1486ed1a",
     "showTitle": false,
     "tableResultSettingsMap": {},
     "title": ""
    }
   },
   "outputs": [
    {
     "output_type": "display_data",
     "data": {
      "text/markdown": [
       "## Consultas SQL com JOINs\n",
       "\n",
       "Nesta etapa, realizamos consultas relacionando a tabela fato com as tabelas dimensão, utilizando comandos SQL."
      ],
      "text/plain": [
       "<IPython.core.display.Markdown object>"
      ]
     },
     "metadata": {},
     "output_type": "display_data"
    }
   ],
   "source": [
    "from IPython.display import display, Markdown\n",
    "\n",
    "display(Markdown(\"## Consultas SQL com JOINs\\n\\nNesta etapa, realizamos consultas relacionando a tabela fato com as tabelas dimensão, utilizando comandos SQL.\"))\n"
   ]
  },
  {
   "cell_type": "code",
   "execution_count": 0,
   "metadata": {
    "application/vnd.databricks.v1+cell": {
     "cellMetadata": {
      "byteLimit": 2048000,
      "rowLimit": 10000
     },
     "inputWidgets": {},
     "nuid": "9e20732f-4cc0-410a-8a5f-70e01a67d06f",
     "showTitle": false,
     "tableResultSettingsMap": {},
     "title": ""
    }
   },
   "outputs": [
    {
     "output_type": "display_data",
     "data": {
      "text/plain": [
       "\u001B[0;31m---------------------------------------------------------------------------\u001B[0m\n",
       "\u001B[0;31mAnalysisException\u001B[0m                         Traceback (most recent call last)\n",
       "File \u001B[0;32m<command-3105057663854758>:2\u001B[0m\n",
       "\u001B[1;32m      1\u001B[0m \u001B[38;5;66;03m# Exemplo de JOIN entre fato_economia e dim_ipca\u001B[39;00m\n",
       "\u001B[0;32m----> 2\u001B[0m display(\u001B[43mspark\u001B[49m\u001B[38;5;241;43m.\u001B[39;49m\u001B[43msql\u001B[49m\u001B[43m(\u001B[49m\u001B[38;5;124;43m\"\"\"\u001B[39;49m\n",
       "\u001B[1;32m      3\u001B[0m \u001B[38;5;124;43mSELECT f.data, f.selic, f.ibov, d.ipca\u001B[39;49m\n",
       "\u001B[1;32m      4\u001B[0m \u001B[38;5;124;43mFROM fato_economia f\u001B[39;49m\n",
       "\u001B[1;32m      5\u001B[0m \u001B[38;5;124;43mINNER JOIN dim_ipca d\u001B[39;49m\n",
       "\u001B[1;32m      6\u001B[0m \u001B[38;5;124;43mON f.data = d.data\u001B[39;49m\n",
       "\u001B[1;32m      7\u001B[0m \u001B[38;5;124;43mORDER BY f.data\u001B[39;49m\n",
       "\u001B[1;32m      8\u001B[0m \u001B[38;5;124;43m\"\"\"\u001B[39;49m\u001B[43m)\u001B[49m)\n",
       "\n",
       "File \u001B[0;32m/databricks/spark/python/pyspark/instrumentation_utils.py:48\u001B[0m, in \u001B[0;36m_wrap_function.<locals>.wrapper\u001B[0;34m(*args, **kwargs)\u001B[0m\n",
       "\u001B[1;32m     46\u001B[0m start \u001B[38;5;241m=\u001B[39m time\u001B[38;5;241m.\u001B[39mperf_counter()\n",
       "\u001B[1;32m     47\u001B[0m \u001B[38;5;28;01mtry\u001B[39;00m:\n",
       "\u001B[0;32m---> 48\u001B[0m     res \u001B[38;5;241m=\u001B[39m \u001B[43mfunc\u001B[49m\u001B[43m(\u001B[49m\u001B[38;5;241;43m*\u001B[39;49m\u001B[43margs\u001B[49m\u001B[43m,\u001B[49m\u001B[43m \u001B[49m\u001B[38;5;241;43m*\u001B[39;49m\u001B[38;5;241;43m*\u001B[39;49m\u001B[43mkwargs\u001B[49m\u001B[43m)\u001B[49m\n",
       "\u001B[1;32m     49\u001B[0m     logger\u001B[38;5;241m.\u001B[39mlog_success(\n",
       "\u001B[1;32m     50\u001B[0m         module_name, class_name, function_name, time\u001B[38;5;241m.\u001B[39mperf_counter() \u001B[38;5;241m-\u001B[39m start, signature\n",
       "\u001B[1;32m     51\u001B[0m     )\n",
       "\u001B[1;32m     52\u001B[0m     \u001B[38;5;28;01mreturn\u001B[39;00m res\n",
       "\n",
       "File \u001B[0;32m/databricks/spark/python/pyspark/sql/session.py:1387\u001B[0m, in \u001B[0;36mSparkSession.sql\u001B[0;34m(self, sqlQuery, args, **kwargs)\u001B[0m\n",
       "\u001B[1;32m   1385\u001B[0m \u001B[38;5;28;01mtry\u001B[39;00m:\n",
       "\u001B[1;32m   1386\u001B[0m     litArgs \u001B[38;5;241m=\u001B[39m {k: _to_java_column(lit(v)) \u001B[38;5;28;01mfor\u001B[39;00m k, v \u001B[38;5;129;01min\u001B[39;00m (args \u001B[38;5;129;01mor\u001B[39;00m {})\u001B[38;5;241m.\u001B[39mitems()}\n",
       "\u001B[0;32m-> 1387\u001B[0m     \u001B[38;5;28;01mreturn\u001B[39;00m DataFrame(\u001B[38;5;28;43mself\u001B[39;49m\u001B[38;5;241;43m.\u001B[39;49m\u001B[43m_jsparkSession\u001B[49m\u001B[38;5;241;43m.\u001B[39;49m\u001B[43msql\u001B[49m\u001B[43m(\u001B[49m\u001B[43msqlQuery\u001B[49m\u001B[43m,\u001B[49m\u001B[43m \u001B[49m\u001B[43mlitArgs\u001B[49m\u001B[43m)\u001B[49m, \u001B[38;5;28mself\u001B[39m)\n",
       "\u001B[1;32m   1388\u001B[0m \u001B[38;5;28;01mfinally\u001B[39;00m:\n",
       "\u001B[1;32m   1389\u001B[0m     \u001B[38;5;28;01mif\u001B[39;00m \u001B[38;5;28mlen\u001B[39m(kwargs) \u001B[38;5;241m>\u001B[39m \u001B[38;5;241m0\u001B[39m:\n",
       "\n",
       "File \u001B[0;32m/databricks/spark/python/lib/py4j-0.10.9.5-src.zip/py4j/java_gateway.py:1321\u001B[0m, in \u001B[0;36mJavaMember.__call__\u001B[0;34m(self, *args)\u001B[0m\n",
       "\u001B[1;32m   1315\u001B[0m command \u001B[38;5;241m=\u001B[39m proto\u001B[38;5;241m.\u001B[39mCALL_COMMAND_NAME \u001B[38;5;241m+\u001B[39m\\\n",
       "\u001B[1;32m   1316\u001B[0m     \u001B[38;5;28mself\u001B[39m\u001B[38;5;241m.\u001B[39mcommand_header \u001B[38;5;241m+\u001B[39m\\\n",
       "\u001B[1;32m   1317\u001B[0m     args_command \u001B[38;5;241m+\u001B[39m\\\n",
       "\u001B[1;32m   1318\u001B[0m     proto\u001B[38;5;241m.\u001B[39mEND_COMMAND_PART\n",
       "\u001B[1;32m   1320\u001B[0m answer \u001B[38;5;241m=\u001B[39m \u001B[38;5;28mself\u001B[39m\u001B[38;5;241m.\u001B[39mgateway_client\u001B[38;5;241m.\u001B[39msend_command(command)\n",
       "\u001B[0;32m-> 1321\u001B[0m return_value \u001B[38;5;241m=\u001B[39m \u001B[43mget_return_value\u001B[49m\u001B[43m(\u001B[49m\n",
       "\u001B[1;32m   1322\u001B[0m \u001B[43m    \u001B[49m\u001B[43manswer\u001B[49m\u001B[43m,\u001B[49m\u001B[43m \u001B[49m\u001B[38;5;28;43mself\u001B[39;49m\u001B[38;5;241;43m.\u001B[39;49m\u001B[43mgateway_client\u001B[49m\u001B[43m,\u001B[49m\u001B[43m \u001B[49m\u001B[38;5;28;43mself\u001B[39;49m\u001B[38;5;241;43m.\u001B[39;49m\u001B[43mtarget_id\u001B[49m\u001B[43m,\u001B[49m\u001B[43m \u001B[49m\u001B[38;5;28;43mself\u001B[39;49m\u001B[38;5;241;43m.\u001B[39;49m\u001B[43mname\u001B[49m\u001B[43m)\u001B[49m\n",
       "\u001B[1;32m   1324\u001B[0m \u001B[38;5;28;01mfor\u001B[39;00m temp_arg \u001B[38;5;129;01min\u001B[39;00m temp_args:\n",
       "\u001B[1;32m   1325\u001B[0m     temp_arg\u001B[38;5;241m.\u001B[39m_detach()\n",
       "\n",
       "File \u001B[0;32m/databricks/spark/python/pyspark/errors/exceptions.py:234\u001B[0m, in \u001B[0;36mcapture_sql_exception.<locals>.deco\u001B[0;34m(*a, **kw)\u001B[0m\n",
       "\u001B[1;32m    230\u001B[0m converted \u001B[38;5;241m=\u001B[39m convert_exception(e\u001B[38;5;241m.\u001B[39mjava_exception)\n",
       "\u001B[1;32m    231\u001B[0m \u001B[38;5;28;01mif\u001B[39;00m \u001B[38;5;129;01mnot\u001B[39;00m \u001B[38;5;28misinstance\u001B[39m(converted, UnknownException):\n",
       "\u001B[1;32m    232\u001B[0m     \u001B[38;5;66;03m# Hide where the exception came from that shows a non-Pythonic\u001B[39;00m\n",
       "\u001B[1;32m    233\u001B[0m     \u001B[38;5;66;03m# JVM exception message.\u001B[39;00m\n",
       "\u001B[0;32m--> 234\u001B[0m     \u001B[38;5;28;01mraise\u001B[39;00m converted \u001B[38;5;28;01mfrom\u001B[39;00m \u001B[38;5;28mNone\u001B[39m\n",
       "\u001B[1;32m    235\u001B[0m \u001B[38;5;28;01melse\u001B[39;00m:\n",
       "\u001B[1;32m    236\u001B[0m     \u001B[38;5;28;01mraise\u001B[39;00m\n",
       "\n",
       "\u001B[0;31mAnalysisException\u001B[0m: [TABLE_OR_VIEW_NOT_FOUND] The table or view `fato_economia` cannot be found. Verify the spelling and correctness of the schema and catalog.\n",
       "If you did not qualify the name with a schema, verify the current_schema() output, or qualify the name with the correct schema and catalog.\n",
       "To tolerate the error on drop use DROP VIEW IF EXISTS or DROP TABLE IF EXISTS.; line 3 pos 5;\n",
       "'Sort ['f.data ASC NULLS FIRST], true\n",
       "+- 'Project ['f.data, 'f.selic, 'f.ibov, 'd.ipca]\n",
       "   +- 'Join Inner, ('f.data = 'd.data)\n",
       "      :- 'SubqueryAlias f\n",
       "      :  +- 'UnresolvedRelation [fato_economia], [], false\n",
       "      +- 'SubqueryAlias d\n",
       "         +- 'UnresolvedRelation [dim_ipca], [], false\n"
      ]
     },
     "metadata": {
      "application/vnd.databricks.v1+output": {
       "arguments": {},
       "data": "\u001B[0;31m---------------------------------------------------------------------------\u001B[0m\n\u001B[0;31mAnalysisException\u001B[0m                         Traceback (most recent call last)\nFile \u001B[0;32m<command-3105057663854758>:2\u001B[0m\n\u001B[1;32m      1\u001B[0m \u001B[38;5;66;03m# Exemplo de JOIN entre fato_economia e dim_ipca\u001B[39;00m\n\u001B[0;32m----> 2\u001B[0m display(\u001B[43mspark\u001B[49m\u001B[38;5;241;43m.\u001B[39;49m\u001B[43msql\u001B[49m\u001B[43m(\u001B[49m\u001B[38;5;124;43m\"\"\"\u001B[39;49m\n\u001B[1;32m      3\u001B[0m \u001B[38;5;124;43mSELECT f.data, f.selic, f.ibov, d.ipca\u001B[39;49m\n\u001B[1;32m      4\u001B[0m \u001B[38;5;124;43mFROM fato_economia f\u001B[39;49m\n\u001B[1;32m      5\u001B[0m \u001B[38;5;124;43mINNER JOIN dim_ipca d\u001B[39;49m\n\u001B[1;32m      6\u001B[0m \u001B[38;5;124;43mON f.data = d.data\u001B[39;49m\n\u001B[1;32m      7\u001B[0m \u001B[38;5;124;43mORDER BY f.data\u001B[39;49m\n\u001B[1;32m      8\u001B[0m \u001B[38;5;124;43m\"\"\"\u001B[39;49m\u001B[43m)\u001B[49m)\n\nFile \u001B[0;32m/databricks/spark/python/pyspark/instrumentation_utils.py:48\u001B[0m, in \u001B[0;36m_wrap_function.<locals>.wrapper\u001B[0;34m(*args, **kwargs)\u001B[0m\n\u001B[1;32m     46\u001B[0m start \u001B[38;5;241m=\u001B[39m time\u001B[38;5;241m.\u001B[39mperf_counter()\n\u001B[1;32m     47\u001B[0m \u001B[38;5;28;01mtry\u001B[39;00m:\n\u001B[0;32m---> 48\u001B[0m     res \u001B[38;5;241m=\u001B[39m \u001B[43mfunc\u001B[49m\u001B[43m(\u001B[49m\u001B[38;5;241;43m*\u001B[39;49m\u001B[43margs\u001B[49m\u001B[43m,\u001B[49m\u001B[43m \u001B[49m\u001B[38;5;241;43m*\u001B[39;49m\u001B[38;5;241;43m*\u001B[39;49m\u001B[43mkwargs\u001B[49m\u001B[43m)\u001B[49m\n\u001B[1;32m     49\u001B[0m     logger\u001B[38;5;241m.\u001B[39mlog_success(\n\u001B[1;32m     50\u001B[0m         module_name, class_name, function_name, time\u001B[38;5;241m.\u001B[39mperf_counter() \u001B[38;5;241m-\u001B[39m start, signature\n\u001B[1;32m     51\u001B[0m     )\n\u001B[1;32m     52\u001B[0m     \u001B[38;5;28;01mreturn\u001B[39;00m res\n\nFile \u001B[0;32m/databricks/spark/python/pyspark/sql/session.py:1387\u001B[0m, in \u001B[0;36mSparkSession.sql\u001B[0;34m(self, sqlQuery, args, **kwargs)\u001B[0m\n\u001B[1;32m   1385\u001B[0m \u001B[38;5;28;01mtry\u001B[39;00m:\n\u001B[1;32m   1386\u001B[0m     litArgs \u001B[38;5;241m=\u001B[39m {k: _to_java_column(lit(v)) \u001B[38;5;28;01mfor\u001B[39;00m k, v \u001B[38;5;129;01min\u001B[39;00m (args \u001B[38;5;129;01mor\u001B[39;00m {})\u001B[38;5;241m.\u001B[39mitems()}\n\u001B[0;32m-> 1387\u001B[0m     \u001B[38;5;28;01mreturn\u001B[39;00m DataFrame(\u001B[38;5;28;43mself\u001B[39;49m\u001B[38;5;241;43m.\u001B[39;49m\u001B[43m_jsparkSession\u001B[49m\u001B[38;5;241;43m.\u001B[39;49m\u001B[43msql\u001B[49m\u001B[43m(\u001B[49m\u001B[43msqlQuery\u001B[49m\u001B[43m,\u001B[49m\u001B[43m \u001B[49m\u001B[43mlitArgs\u001B[49m\u001B[43m)\u001B[49m, \u001B[38;5;28mself\u001B[39m)\n\u001B[1;32m   1388\u001B[0m \u001B[38;5;28;01mfinally\u001B[39;00m:\n\u001B[1;32m   1389\u001B[0m     \u001B[38;5;28;01mif\u001B[39;00m \u001B[38;5;28mlen\u001B[39m(kwargs) \u001B[38;5;241m>\u001B[39m \u001B[38;5;241m0\u001B[39m:\n\nFile \u001B[0;32m/databricks/spark/python/lib/py4j-0.10.9.5-src.zip/py4j/java_gateway.py:1321\u001B[0m, in \u001B[0;36mJavaMember.__call__\u001B[0;34m(self, *args)\u001B[0m\n\u001B[1;32m   1315\u001B[0m command \u001B[38;5;241m=\u001B[39m proto\u001B[38;5;241m.\u001B[39mCALL_COMMAND_NAME \u001B[38;5;241m+\u001B[39m\\\n\u001B[1;32m   1316\u001B[0m     \u001B[38;5;28mself\u001B[39m\u001B[38;5;241m.\u001B[39mcommand_header \u001B[38;5;241m+\u001B[39m\\\n\u001B[1;32m   1317\u001B[0m     args_command \u001B[38;5;241m+\u001B[39m\\\n\u001B[1;32m   1318\u001B[0m     proto\u001B[38;5;241m.\u001B[39mEND_COMMAND_PART\n\u001B[1;32m   1320\u001B[0m answer \u001B[38;5;241m=\u001B[39m \u001B[38;5;28mself\u001B[39m\u001B[38;5;241m.\u001B[39mgateway_client\u001B[38;5;241m.\u001B[39msend_command(command)\n\u001B[0;32m-> 1321\u001B[0m return_value \u001B[38;5;241m=\u001B[39m \u001B[43mget_return_value\u001B[49m\u001B[43m(\u001B[49m\n\u001B[1;32m   1322\u001B[0m \u001B[43m    \u001B[49m\u001B[43manswer\u001B[49m\u001B[43m,\u001B[49m\u001B[43m \u001B[49m\u001B[38;5;28;43mself\u001B[39;49m\u001B[38;5;241;43m.\u001B[39;49m\u001B[43mgateway_client\u001B[49m\u001B[43m,\u001B[49m\u001B[43m \u001B[49m\u001B[38;5;28;43mself\u001B[39;49m\u001B[38;5;241;43m.\u001B[39;49m\u001B[43mtarget_id\u001B[49m\u001B[43m,\u001B[49m\u001B[43m \u001B[49m\u001B[38;5;28;43mself\u001B[39;49m\u001B[38;5;241;43m.\u001B[39;49m\u001B[43mname\u001B[49m\u001B[43m)\u001B[49m\n\u001B[1;32m   1324\u001B[0m \u001B[38;5;28;01mfor\u001B[39;00m temp_arg \u001B[38;5;129;01min\u001B[39;00m temp_args:\n\u001B[1;32m   1325\u001B[0m     temp_arg\u001B[38;5;241m.\u001B[39m_detach()\n\nFile \u001B[0;32m/databricks/spark/python/pyspark/errors/exceptions.py:234\u001B[0m, in \u001B[0;36mcapture_sql_exception.<locals>.deco\u001B[0;34m(*a, **kw)\u001B[0m\n\u001B[1;32m    230\u001B[0m converted \u001B[38;5;241m=\u001B[39m convert_exception(e\u001B[38;5;241m.\u001B[39mjava_exception)\n\u001B[1;32m    231\u001B[0m \u001B[38;5;28;01mif\u001B[39;00m \u001B[38;5;129;01mnot\u001B[39;00m \u001B[38;5;28misinstance\u001B[39m(converted, UnknownException):\n\u001B[1;32m    232\u001B[0m     \u001B[38;5;66;03m# Hide where the exception came from that shows a non-Pythonic\u001B[39;00m\n\u001B[1;32m    233\u001B[0m     \u001B[38;5;66;03m# JVM exception message.\u001B[39;00m\n\u001B[0;32m--> 234\u001B[0m     \u001B[38;5;28;01mraise\u001B[39;00m converted \u001B[38;5;28;01mfrom\u001B[39;00m \u001B[38;5;28mNone\u001B[39m\n\u001B[1;32m    235\u001B[0m \u001B[38;5;28;01melse\u001B[39;00m:\n\u001B[1;32m    236\u001B[0m     \u001B[38;5;28;01mraise\u001B[39;00m\n\n\u001B[0;31mAnalysisException\u001B[0m: [TABLE_OR_VIEW_NOT_FOUND] The table or view `fato_economia` cannot be found. Verify the spelling and correctness of the schema and catalog.\nIf you did not qualify the name with a schema, verify the current_schema() output, or qualify the name with the correct schema and catalog.\nTo tolerate the error on drop use DROP VIEW IF EXISTS or DROP TABLE IF EXISTS.; line 3 pos 5;\n'Sort ['f.data ASC NULLS FIRST], true\n+- 'Project ['f.data, 'f.selic, 'f.ibov, 'd.ipca]\n   +- 'Join Inner, ('f.data = 'd.data)\n      :- 'SubqueryAlias f\n      :  +- 'UnresolvedRelation [fato_economia], [], false\n      +- 'SubqueryAlias d\n         +- 'UnresolvedRelation [dim_ipca], [], false\n",
       "errorSummary": "<span class='ansi-red-fg'>AnalysisException</span>: [TABLE_OR_VIEW_NOT_FOUND] The table or view `fato_economia` cannot be found. Verify the spelling and correctness of the schema and catalog.\nIf you did not qualify the name with a schema, verify the current_schema() output, or qualify the name with the correct schema and catalog.\nTo tolerate the error on drop use DROP VIEW IF EXISTS or DROP TABLE IF EXISTS.; line 3 pos 5;\n'Sort ['f.data ASC NULLS FIRST], true\n+- 'Project ['f.data, 'f.selic, 'f.ibov, 'd.ipca]\n   +- 'Join Inner, ('f.data = 'd.data)\n      :- 'SubqueryAlias f\n      :  +- 'UnresolvedRelation [fato_economia], [], false\n      +- 'SubqueryAlias d\n         +- 'UnresolvedRelation [dim_ipca], [], false\n",
       "errorTraceType": "ansi",
       "metadata": {},
       "type": "ipynbError"
      }
     },
     "output_type": "display_data"
    }
   ],
   "source": [
    "# Exemplo de JOIN entre fato_economia e dim_ipca\n",
    "display(spark.sql(\"\"\"\n",
    "SELECT f.data, f.selic, f.ibov, d.ipca\n",
    "FROM fato_economia f\n",
    "INNER JOIN dim_ipca d\n",
    "ON f.data = d.data\n",
    "ORDER BY f.data\n",
    "\"\"\"))\n"
   ]
  },
  {
   "cell_type": "code",
   "execution_count": 0,
   "metadata": {
    "application/vnd.databricks.v1+cell": {
     "cellMetadata": {
      "byteLimit": 2048000,
      "rowLimit": 10000
     },
     "inputWidgets": {},
     "nuid": "48822f52-1dc8-449e-8714-102cfcc82e58",
     "showTitle": false,
     "tableResultSettingsMap": {},
     "title": ""
    }
   },
   "outputs": [
    {
     "output_type": "stream",
     "name": "stdout",
     "output_type": "stream",
     "text": [
      "DataFrame[data: date, selic: double, ibov: int, ipca: double]"
     ]
    }
   ],
   "source": [
    "# JOIN usando o nome do banco explicitamente\n",
    "display(spark.sql(\"\"\"\n",
    "SELECT f.data, f.selic, f.ibov, d.ipca\n",
    "FROM mvp_economia.fato_economia f\n",
    "INNER JOIN mvp_economia.dim_ipca d\n",
    "ON f.data = d.data\n",
    "ORDER BY f.data\n",
    "\"\"\"))\n"
   ]
  },
  {
   "cell_type": "code",
   "execution_count": 0,
   "metadata": {
    "application/vnd.databricks.v1+cell": {
     "cellMetadata": {
      "byteLimit": 2048000,
      "rowLimit": 10000
     },
     "inputWidgets": {},
     "nuid": "92542ddd-3344-4fd5-8cd4-ebb953fd169d",
     "showTitle": false,
     "tableResultSettingsMap": {},
     "title": ""
    }
   },
   "outputs": [
    {
     "output_type": "display_data",
     "data": {
      "text/markdown": [
       "### Consulta: Fato + Dimensão SELIC"
      ],
      "text/plain": [
       "<IPython.core.display.Markdown object>"
      ]
     },
     "metadata": {},
     "output_type": "display_data"
    },
    {
     "output_type": "stream",
     "name": "stdout",
     "output_type": "stream",
     "text": [
      "DataFrame[data: date, ipca: double, ibov: int, selic: double]"
     ]
    }
   ],
   "source": [
    "display(Markdown(\"### Consulta: Fato + Dimensão SELIC\"))\n",
    "\n",
    "display(spark.sql(\"\"\"\n",
    "SELECT f.data, f.ipca, f.ibov, d.selic\n",
    "FROM mvp_economia.fato_economia f\n",
    "INNER JOIN mvp_economia.dim_selic d\n",
    "ON f.data = d.data\n",
    "ORDER BY f.data\n",
    "\"\"\"))\n"
   ]
  },
  {
   "cell_type": "code",
   "execution_count": 0,
   "metadata": {
    "application/vnd.databricks.v1+cell": {
     "cellMetadata": {
      "byteLimit": 2048000,
      "rowLimit": 10000
     },
     "inputWidgets": {},
     "nuid": "af600da3-6dc8-474d-a171-ed5e000ab078",
     "showTitle": false,
     "tableResultSettingsMap": {},
     "title": ""
    }
   },
   "outputs": [
    {
     "output_type": "display_data",
     "data": {
      "text/markdown": [
       "### Consulta: Fato + Dimensão IBOV"
      ],
      "text/plain": [
       "<IPython.core.display.Markdown object>"
      ]
     },
     "metadata": {},
     "output_type": "display_data"
    },
    {
     "output_type": "stream",
     "name": "stdout",
     "output_type": "stream",
     "text": [
      "DataFrame[data: date, ipca: double, selic: double, ibov: int]"
     ]
    }
   ],
   "source": [
    "display(Markdown(\"### Consulta: Fato + Dimensão IBOV\"))\n",
    "\n",
    "display(spark.sql(\"\"\"\n",
    "SELECT f.data, f.ipca, f.selic, d.ibov\n",
    "FROM mvp_economia.fato_economia f\n",
    "INNER JOIN mvp_economia.dim_ibov d\n",
    "ON f.data = d.data\n",
    "ORDER BY f.data\n",
    "\"\"\"))\n"
   ]
  },
  {
   "cell_type": "code",
   "execution_count": 0,
   "metadata": {
    "application/vnd.databricks.v1+cell": {
     "cellMetadata": {
      "byteLimit": 2048000,
      "rowLimit": 10000
     },
     "inputWidgets": {},
     "nuid": "03598702-3481-424a-a965-1384b9bf1944",
     "showTitle": false,
     "tableResultSettingsMap": {},
     "title": ""
    }
   },
   "outputs": [
    {
     "output_type": "display_data",
     "data": {
      "text/markdown": [
       "## Análises Estatísticas e Visualizações\n",
       "\n",
       "Nesta etapa, analisamos a correlação entre IPCA, SELIC e IBOVESPA, aplicamos regressão linear e geramos gráficos para melhor compreensão dos dados."
      ],
      "text/plain": [
       "<IPython.core.display.Markdown object>"
      ]
     },
     "metadata": {},
     "output_type": "display_data"
    }
   ],
   "source": [
    "from IPython.display import display, Markdown\n",
    "\n",
    "display(Markdown(\"## Análises Estatísticas e Visualizações\\n\\nNesta etapa, analisamos a correlação entre IPCA, SELIC e IBOVESPA, aplicamos regressão linear e geramos gráficos para melhor compreensão dos dados.\"))\n"
   ]
  },
  {
   "cell_type": "code",
   "execution_count": 0,
   "metadata": {
    "application/vnd.databricks.v1+cell": {
     "cellMetadata": {
      "byteLimit": 2048000,
      "rowLimit": 10000
     },
     "inputWidgets": {},
     "nuid": "435913bd-9ca4-4da8-afa9-47b78010458c",
     "showTitle": false,
     "tableResultSettingsMap": {},
     "title": ""
    }
   },
   "outputs": [],
   "source": [
    "# Lendo a tabela GOLD para análise (com nome do banco)\n",
    "df_gold = spark.table(\"mvp_economia.gold_economia\")\n"
   ]
  },
  {
   "cell_type": "code",
   "execution_count": 0,
   "metadata": {
    "application/vnd.databricks.v1+cell": {
     "cellMetadata": {
      "byteLimit": 2048000,
      "rowLimit": 10000
     },
     "inputWidgets": {},
     "nuid": "459730a3-f1c6-497d-b0ec-c9f34a7aa0ac",
     "showTitle": false,
     "tableResultSettingsMap": {},
     "title": ""
    }
   },
   "outputs": [
    {
     "output_type": "display_data",
     "data": {
      "application/vnd.databricks.v1+bamboolib_hint": "{\"pd.DataFrames\": [], \"version\": \"0.0.1\"}",
      "text/plain": []
     },
     "metadata": {},
     "output_type": "display_data"
    },
    {
     "output_type": "display_data",
     "data": {
      "text/html": [
       "<div>\n",
       "<style scoped>\n",
       "    .dataframe tbody tr th:only-of-type {\n",
       "        vertical-align: middle;\n",
       "    }\n",
       "\n",
       "    .dataframe tbody tr th {\n",
       "        vertical-align: top;\n",
       "    }\n",
       "\n",
       "    .dataframe thead th {\n",
       "        text-align: right;\n",
       "    }\n",
       "</style>\n",
       "<table border=\"1\" class=\"dataframe\">\n",
       "  <thead>\n",
       "    <tr style=\"text-align: right;\">\n",
       "      <th></th>\n",
       "      <th>ipca</th>\n",
       "      <th>selic</th>\n",
       "      <th>ibov</th>\n",
       "    </tr>\n",
       "  </thead>\n",
       "  <tbody>\n",
       "    <tr>\n",
       "      <th>ipca</th>\n",
       "      <td>1.000000</td>\n",
       "      <td>-0.070458</td>\n",
       "      <td>-0.081451</td>\n",
       "    </tr>\n",
       "    <tr>\n",
       "      <th>selic</th>\n",
       "      <td>-0.070458</td>\n",
       "      <td>1.000000</td>\n",
       "      <td>-0.007762</td>\n",
       "    </tr>\n",
       "    <tr>\n",
       "      <th>ibov</th>\n",
       "      <td>-0.081451</td>\n",
       "      <td>-0.007762</td>\n",
       "      <td>1.000000</td>\n",
       "    </tr>\n",
       "  </tbody>\n",
       "</table>\n",
       "</div>"
      ]
     },
     "metadata": {
      "application/vnd.databricks.v1+output": {
       "addedWidgets": {},
       "arguments": {},
       "data": "<div>\n<style scoped>\n    .dataframe tbody tr th:only-of-type {\n        vertical-align: middle;\n    }\n\n    .dataframe tbody tr th {\n        vertical-align: top;\n    }\n\n    .dataframe thead th {\n        text-align: right;\n    }\n</style>\n<table border=\"1\" class=\"dataframe\">\n  <thead>\n    <tr style=\"text-align: right;\">\n      <th></th>\n      <th>ipca</th>\n      <th>selic</th>\n      <th>ibov</th>\n    </tr>\n  </thead>\n  <tbody>\n    <tr>\n      <th>ipca</th>\n      <td>1.000000</td>\n      <td>-0.070458</td>\n      <td>-0.081451</td>\n    </tr>\n    <tr>\n      <th>selic</th>\n      <td>-0.070458</td>\n      <td>1.000000</td>\n      <td>-0.007762</td>\n    </tr>\n    <tr>\n      <th>ibov</th>\n      <td>-0.081451</td>\n      <td>-0.007762</td>\n      <td>1.000000</td>\n    </tr>\n  </tbody>\n</table>\n</div>",
       "datasetInfos": [],
       "metadata": {},
       "removedWidgets": [],
       "textData": null,
       "type": "htmlSandbox"
      }
     },
     "output_type": "display_data"
    }
   ],
   "source": [
    "# Importando a biblioteca pandas\n",
    "import pandas as pd\n",
    "\n",
    "# Convertendo Spark DataFrame para Pandas DataFrame\n",
    "pdf_gold = df_gold.toPandas()\n",
    "\n",
    "# Calculando a matriz de correlação\n",
    "correlation_matrix = pdf_gold.corr()\n",
    "\n",
    "# Exibindo a matriz de correlação\n",
    "display(correlation_matrix)\n"
   ]
  },
  {
   "cell_type": "code",
   "execution_count": 0,
   "metadata": {
    "application/vnd.databricks.v1+cell": {
     "cellMetadata": {
      "byteLimit": 2048000,
      "rowLimit": 10000
     },
     "inputWidgets": {},
     "nuid": "29a97701-7961-4e08-83f0-9c4c89966348",
     "showTitle": false,
     "tableResultSettingsMap": {},
     "title": ""
    }
   },
   "outputs": [
    {
     "output_type": "display_data",
     "data": {
      "text/markdown": [
       "## Regressão Linear Simples\n",
       "\n",
       "Nesta etapa, aplicamos uma regressão linear para analisar a relação entre a taxa SELIC e o índice IBOVESPA."
      ],
      "text/plain": [
       "<IPython.core.display.Markdown object>"
      ]
     },
     "metadata": {},
     "output_type": "display_data"
    }
   ],
   "source": [
    "from IPython.display import display, Markdown\n",
    "\n",
    "display(Markdown(\"## Regressão Linear Simples\\n\\nNesta etapa, aplicamos uma regressão linear para analisar a relação entre a taxa SELIC e o índice IBOVESPA.\"))\n"
   ]
  },
  {
   "cell_type": "code",
   "execution_count": 0,
   "metadata": {
    "application/vnd.databricks.v1+cell": {
     "cellMetadata": {
      "byteLimit": 2048000,
      "rowLimit": 10000
     },
     "inputWidgets": {},
     "nuid": "a79373a2-a641-4095-a6ee-15228afef0f9",
     "showTitle": false,
     "tableResultSettingsMap": {},
     "title": ""
    }
   },
   "outputs": [
    {
     "output_type": "stream",
     "name": "stdout",
     "output_type": "stream",
     "text": [
      "Equação da Regressão: IBOV = -41.49 * SELIC + 69189.69\n"
     ]
    }
   ],
   "source": [
    "# Importando biblioteca de regressão\n",
    "from sklearn.linear_model import LinearRegression\n",
    "\n",
    "# Definindo variável independente (X) e dependente (y)\n",
    "X = pdf_gold[[\"selic\"]]\n",
    "y = pdf_gold[\"ibov\"]\n",
    "\n",
    "# Criando o modelo\n",
    "model = LinearRegression()\n",
    "\n",
    "# Treinando o modelo\n",
    "model.fit(X, y)\n",
    "\n",
    "# Coeficiente e Intercepto\n",
    "coef = model.coef_[0]\n",
    "intercept = model.intercept_\n",
    "\n",
    "print(f\"Equação da Regressão: IBOV = {coef:.2f} * SELIC + {intercept:.2f}\")\n"
   ]
  },
  {
   "cell_type": "code",
   "execution_count": 0,
   "metadata": {
    "application/vnd.databricks.v1+cell": {
     "cellMetadata": {
      "byteLimit": 2048000,
      "rowLimit": 10000
     },
     "inputWidgets": {},
     "nuid": "a8ac091e-094e-40a2-9629-5376c079bd3e",
     "showTitle": false,
     "tableResultSettingsMap": {},
     "title": ""
    }
   },
   "outputs": [
    {
     "output_type": "display_data",
     "data": {
      "image/png": "[encoded data removed]"
     },
     "metadata": {
      "application/vnd.databricks.v1+output": {
       "addedWidgets": {},
       "arguments": {},
       "data": "data:image/png;base64,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\n",
       "datasetInfos": [],
       "metadata": {},
       "removedWidgets": [],
       "type": "image"
      }
     },
     "output_type": "display_data"
    }
   ],
   "source": [
    "# Importando a biblioteca de plotagem\n",
    "import matplotlib.pyplot as plt\n",
    "\n",
    "# Criando o gráfico de dispersão\n",
    "plt.scatter(X.values, y.values, label=\"Dados reais\")\n",
    "plt.plot(X.values, model.predict(X), label=\"Regressão Linear\", linewidth=2)\n",
    "\n",
    "# Adicionando título e legendas\n",
    "plt.title(\"Regressão Linear - SELIC vs IBOVESPA\")\n",
    "plt.xlabel(\"SELIC (%)\")\n",
    "plt.ylabel(\"IBOVESPA\")\n",
    "plt.legend()\n",
    "plt.grid(True)\n",
    "plt.show()\n"
   ]
  },
  {
   "cell_type": "code",
   "execution_count": 0,
   "metadata": {
    "application/vnd.databricks.v1+cell": {
     "cellMetadata": {
      "byteLimit": 2048000,
      "rowLimit": 10000
     },
     "inputWidgets": {},
     "nuid": "afdb0a31-4471-42f8-9a00-2100e556368d",
     "showTitle": false,
     "tableResultSettingsMap": {},
     "title": ""
    }
   },
   "outputs": [
    {
     "output_type": "display_data",
     "data": {
      "text/markdown": [
       "## Conclusão\n",
       "\n",
       "O pipeline de dados implementado neste projeto permitiu a análise da relação entre o IPCA, a SELIC e o IBOVESPA nos últimos 15 anos. A estrutura em camadas (BRONZE, SILVER e GOLD) garantiu a qualidade e a organização dos dados.\n",
       "\n",
       "A análise de correlação revelou relações econômicas esperadas, como a correlação negativa entre a taxa SELIC e o índice IBOVESPA. A regressão linear simples confirmou essa tendência, mostrando que o aumento da SELIC tende a impactar negativamente o IBOVESPA.\n",
       "\n",
       "As tabelas foram modeladas em estrela para facilitar consultas e análises, e o pipeline está preparado para ser reutilizado com novos dados futuros."
      ],
      "text/plain": [
       "<IPython.core.display.Markdown object>"
      ]
     },
     "metadata": {},
     "output_type": "display_data"
    }
   ],
   "source": [
    "from IPython.display import display, Markdown\n",
    "\n",
    "display(Markdown(\"## Conclusão\\n\\nO pipeline de dados implementado neste projeto permitiu a análise da relação entre o IPCA, a SELIC e o IBOVESPA nos últimos 15 anos. A estrutura em camadas (BRONZE, SILVER e GOLD) garantiu a qualidade e a organização dos dados.\\n\\nA análise de correlação revelou relações econômicas esperadas, como a correlação negativa entre a taxa SELIC e o índice IBOVESPA. A regressão linear simples confirmou essa tendência, mostrando que o aumento da SELIC tende a impactar negativamente o IBOVESPA.\\n\\nAs tabelas foram modeladas em estrela para facilitar consultas e análises, e o pipeline está preparado para ser reutilizado com novos dados futuros.\")) \n"
   ]
  }
 ],
 "metadata": {
  "application/vnd.databricks.v1+notebook": {
   "computePreferences": null,
   "dashboards": [],
   "environmentMetadata": {
    "base_environment": "",
    "environment_version": "1"
   },
   "inputWidgetPreferences": null,
   "language": "python",
   "notebookMetadata": {
    "pythonIndentUnit": 4
   },
   "notebookName": "Final_MVP",
   "widgets": {}
  }
 },
 "nbformat": 4,
 "nbformat_minor": 0
}